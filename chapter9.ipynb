{
 "cells": [
  {
   "cell_type": "code",
   "execution_count": 1,
   "id": "5f37f3cf",
   "metadata": {},
   "outputs": [],
   "source": [
    "import warnings\n",
    "warnings.filterwarnings(\"ignore\")\n",
    "from statsmodels.tools.sm_exceptions import ConvergenceWarning\n",
    "warnings.simplefilter('ignore', ConvergenceWarning)\n",
    "from statsmodels.tools.sm_exceptions import ValueWarning\n",
    "warnings.simplefilter('ignore', ValueWarning)\n",
    "warnings.simplefilter('ignore', FutureWarning)\n"
   ]
  },
  {
   "cell_type": "markdown",
   "id": "cd8e48f8",
   "metadata": {},
   "source": [
    "### VAR"
   ]
  },
  {
   "cell_type": "code",
   "execution_count": 2,
   "id": "4e4620f1",
   "metadata": {},
   "outputs": [],
   "source": [
    "import pandas as pd\n",
    "import numpy as np\n",
    "from statsmodels.tsa.api import VAR\n",
    "from statsmodels.tsa.stattools import adfuller\n",
    "from statsmodels.tools.eval_measures import rmse\n",
    "import matplotlib.pyplot as plt"
   ]
  },
  {
   "cell_type": "code",
   "execution_count": 3,
   "id": "a47cc4fc",
   "metadata": {},
   "outputs": [],
   "source": [
    "df = pd.read_csv('WeatherData.csv', index_col='Date', parse_dates=['Date'])"
   ]
  },
  {
   "cell_type": "code",
   "execution_count": 4,
   "id": "eef68043",
   "metadata": {},
   "outputs": [],
   "source": [
    "df = df.head(1000)"
   ]
  },
  {
   "cell_type": "code",
   "execution_count": 5,
   "id": "94287986",
   "metadata": {},
   "outputs": [],
   "source": [
    "df.drop(columns = 'Unnamed: 0', inplace = True)"
   ]
  },
  {
   "cell_type": "code",
   "execution_count": 6,
   "id": "e298d4d0",
   "metadata": {},
   "outputs": [],
   "source": [
    "df = pd.get_dummies(df, columns=['Direction of Wind', 'Clouds'], drop_first=True)"
   ]
  },
  {
   "cell_type": "code",
   "execution_count": 7,
   "id": "0b53dd8b",
   "metadata": {},
   "outputs": [
    {
     "name": "stdout",
     "output_type": "stream",
     "text": [
      "Temperature (Min) is stationary\n",
      "Temperature (Max) is stationary\n",
      "Pressure is stationary\n",
      "Velocity of Wind is stationary\n",
      "Humidity is not stationary\n",
      "Carbon Monoxide is not stationary\n",
      "UV Rays is not stationary\n",
      "Intensity of Light is stationary\n",
      "Rainfall is stationary\n",
      "Direction of Wind_NorthWest is stationary\n",
      "Direction of Wind_SouthEast is stationary\n",
      "Direction of Wind_SouthWest is stationary\n",
      "Clouds_Altostratus is stationary\n",
      "Clouds_Cirrocumulus is stationary\n",
      "Clouds_Cirrostratus is stationary\n",
      "Clouds_Cirrus is stationary\n",
      "Clouds_Contrails is stationary\n",
      "Clouds_Cumulonimbus is stationary\n",
      "Clouds_Cumulus: Fluffy is stationary\n",
      "Clouds_Lenticular Clouds is stationary\n",
      "Clouds_Mammatus Clouds is stationary\n",
      "Clouds_Nimbostratus is stationary\n",
      "Clouds_Stratocumulus is stationary\n",
      "Clouds_Stratus is stationary\n"
     ]
    }
   ],
   "source": [
    "def check_stationarity(series):\n",
    "    result = adfuller(series)\n",
    "    if result[1] > 0.05:\n",
    "        print(f\"{series.name} is not stationary\")\n",
    "    else:\n",
    "        print(f\"{series.name} is stationary\")\n",
    "\n",
    "for column in df.columns:\n",
    "    check_stationarity(df[column])"
   ]
  },
  {
   "cell_type": "code",
   "execution_count": 8,
   "id": "888b4650",
   "metadata": {},
   "outputs": [],
   "source": [
    "df = df.diff().dropna()"
   ]
  },
  {
   "cell_type": "code",
   "execution_count": 9,
   "id": "799253aa",
   "metadata": {},
   "outputs": [
    {
     "name": "stdout",
     "output_type": "stream",
     "text": [
      "Temperature (Min) is stationary\n",
      "Temperature (Max) is stationary\n",
      "Pressure is stationary\n",
      "Velocity of Wind is stationary\n",
      "Humidity is stationary\n",
      "Carbon Monoxide is stationary\n",
      "UV Rays is stationary\n",
      "Intensity of Light is stationary\n",
      "Rainfall is stationary\n",
      "Direction of Wind_NorthWest is stationary\n",
      "Direction of Wind_SouthEast is stationary\n",
      "Direction of Wind_SouthWest is stationary\n",
      "Clouds_Altostratus is stationary\n",
      "Clouds_Cirrocumulus is stationary\n",
      "Clouds_Cirrostratus is stationary\n",
      "Clouds_Cirrus is stationary\n",
      "Clouds_Contrails is stationary\n",
      "Clouds_Cumulonimbus is stationary\n",
      "Clouds_Cumulus: Fluffy is stationary\n",
      "Clouds_Lenticular Clouds is stationary\n",
      "Clouds_Mammatus Clouds is stationary\n",
      "Clouds_Nimbostratus is stationary\n",
      "Clouds_Stratocumulus is stationary\n",
      "Clouds_Stratus is stationary\n"
     ]
    }
   ],
   "source": [
    "for column in df.columns:\n",
    "    check_stationarity(df[column])"
   ]
  },
  {
   "cell_type": "code",
   "execution_count": 10,
   "id": "a707a1d0",
   "metadata": {},
   "outputs": [
    {
     "name": "stdout",
     "output_type": "stream",
     "text": [
      " VAR Order Selection (* highlights the minimums) \n",
      "=================================================\n",
      "      AIC         BIC         FPE         HQIC   \n",
      "-------------------------------------------------\n",
      "0       67.18      67.30*   1.504e+29       67.23\n",
      "1       65.01       67.99   1.713e+28      66.14*\n",
      "2       64.45       70.30   9.812e+27       66.68\n",
      "3      64.42*       73.13  9.538e+27*       67.73\n",
      "4       64.55       76.12   1.098e+28       68.95\n",
      "5       64.78       79.22   1.401e+28       70.27\n",
      "-------------------------------------------------\n"
     ]
    }
   ],
   "source": [
    "model = VAR(df.iloc[0:989])\n",
    "\n",
    "lag_order = model.select_order(maxlags=5)\n",
    "print(lag_order.summary())"
   ]
  },
  {
   "cell_type": "code",
   "execution_count": 11,
   "id": "d05a72b4",
   "metadata": {},
   "outputs": [],
   "source": [
    "model_fitted = model.fit(maxlags=5, ic='aic')\n",
    "\n",
    "n_forecast_steps = 10 \n",
    "forecast = model_fitted.forecast(df.iloc[0:989].values[-model_fitted.k_ar:], steps=n_forecast_steps)\n",
    "\n",
    "forecast_df = pd.DataFrame(forecast, index=pd.date_range(start=df.iloc[0:989].index[-1], periods=n_forecast_steps + 1, closed='right'), columns=df.columns)"
   ]
  },
  {
   "cell_type": "code",
   "execution_count": 12,
   "id": "8d13c46b",
   "metadata": {},
   "outputs": [
    {
     "name": "stdout",
     "output_type": "stream",
     "text": [
      "1972-09-17    0.999183\n",
      "1972-09-18   -0.576733\n",
      "1972-09-19    0.469374\n",
      "1972-09-20    0.006213\n",
      "1972-09-21   -0.235691\n",
      "1972-09-22    0.082648\n",
      "1972-09-23    0.033987\n",
      "1972-09-24    0.015170\n",
      "1972-09-25   -0.076186\n",
      "1972-09-26    0.049970\n",
      "Freq: D, Name: Rainfall, dtype: float64\n"
     ]
    }
   ],
   "source": [
    "print(forecast_df['Rainfall']) "
   ]
  },
  {
   "cell_type": "code",
   "execution_count": 13,
   "id": "58214af7",
   "metadata": {},
   "outputs": [
    {
     "data": {
      "text/plain": [
       "Date\n",
       "1972-09-17   -1.0\n",
       "1972-09-18    1.0\n",
       "1972-09-19    1.0\n",
       "1972-09-20    2.0\n",
       "1972-09-21   -3.0\n",
       "1972-09-22    0.0\n",
       "1972-09-23   -1.0\n",
       "1972-09-24    2.0\n",
       "1972-09-25   -2.0\n",
       "1972-09-26    0.0\n",
       "Name: Rainfall, dtype: float64"
      ]
     },
     "execution_count": 13,
     "metadata": {},
     "output_type": "execute_result"
    }
   ],
   "source": [
    "df['Rainfall'].tail(10)"
   ]
  },
  {
   "cell_type": "code",
   "execution_count": 14,
   "id": "2bce6723",
   "metadata": {},
   "outputs": [
    {
     "name": "stdout",
     "output_type": "stream",
     "text": [
      "1.6462090753959264\n"
     ]
    }
   ],
   "source": [
    "rmse_results = rmse(df['Rainfall'].tail(10), forecast_df['Rainfall'])\n",
    "print(rmse_results)"
   ]
  },
  {
   "cell_type": "code",
   "execution_count": 15,
   "id": "be9f529d",
   "metadata": {},
   "outputs": [
    {
     "data": {
      "image/png": "[encoded data removed]",
      "text/plain": [
       "<Figure size 1200x600 with 1 Axes>"
      ]
     },
     "metadata": {},
     "output_type": "display_data"
    }
   ],
   "source": [
    "plt.figure(figsize=(12,6))\n",
    "plt.plot(df.tail(10)['Rainfall'], label='Actual')\n",
    "plt.plot(forecast_df['Rainfall'], label='Predicted')\n",
    "plt.xlabel('Time')\n",
    "plt.ylabel('Value')\n",
    "plt.legend()\n",
    "plt.show()"
   ]
  },
  {
   "cell_type": "markdown",
   "id": "99971c10",
   "metadata": {},
   "source": [
    "### VECM"
   ]
  },
  {
   "cell_type": "code",
   "execution_count": 16,
   "id": "ff268709",
   "metadata": {},
   "outputs": [],
   "source": [
    "import pandas as pd\n",
    "import numpy as np\n",
    "from statsmodels.tsa.api import VECM\n",
    "from statsmodels.tsa.vector_ar.vecm import coint_johansen\n",
    "from statsmodels.tools.eval_measures import rmse\n",
    "import matplotlib.pyplot as plt"
   ]
  },
  {
   "cell_type": "code",
   "execution_count": 17,
   "id": "c95f20ad",
   "metadata": {},
   "outputs": [],
   "source": [
    "df = pd.read_csv('WeatherData.csv', index_col='Date', parse_dates=['Date'])\n",
    "df = df.head(1000)"
   ]
  },
  {
   "cell_type": "code",
   "execution_count": 18,
   "id": "8175b313",
   "metadata": {},
   "outputs": [],
   "source": [
    "df.drop(columns = 'Unnamed: 0', inplace = True)\n",
    "df = pd.get_dummies(df, columns=['Direction of Wind', 'Clouds'], drop_first=True)"
   ]
  },
  {
   "cell_type": "code",
   "execution_count": 19,
   "id": "109197c1",
   "metadata": {},
   "outputs": [
    {
     "name": "stdout",
     "output_type": "stream",
     "text": [
      "Temperature (Min) is stationary\n",
      "Temperature (Max) is stationary\n",
      "Pressure is stationary\n",
      "Velocity of Wind is stationary\n",
      "Humidity is not stationary\n",
      "Carbon Monoxide is not stationary\n",
      "UV Rays is not stationary\n",
      "Intensity of Light is stationary\n",
      "Rainfall is stationary\n",
      "Direction of Wind_NorthWest is stationary\n",
      "Direction of Wind_SouthEast is stationary\n",
      "Direction of Wind_SouthWest is stationary\n",
      "Clouds_Altostratus is stationary\n",
      "Clouds_Cirrocumulus is stationary\n",
      "Clouds_Cirrostratus is stationary\n",
      "Clouds_Cirrus is stationary\n",
      "Clouds_Contrails is stationary\n",
      "Clouds_Cumulonimbus is stationary\n",
      "Clouds_Cumulus: Fluffy is stationary\n",
      "Clouds_Lenticular Clouds is stationary\n",
      "Clouds_Mammatus Clouds is stationary\n",
      "Clouds_Nimbostratus is stationary\n",
      "Clouds_Stratocumulus is stationary\n",
      "Clouds_Stratus is stationary\n"
     ]
    }
   ],
   "source": [
    "def check_stationarity(series):\n",
    "    result = adfuller(series)\n",
    "    if result[1] > 0.05:\n",
    "        print(f\"{series.name} is not stationary\")\n",
    "    else:\n",
    "        print(f\"{series.name} is stationary\")\n",
    "\n",
    "for column in df.columns:\n",
    "    check_stationarity(df[column])"
   ]
  },
  {
   "cell_type": "code",
   "execution_count": 20,
   "id": "5691a5b3",
   "metadata": {},
   "outputs": [
    {
     "name": "stdout",
     "output_type": "stream",
     "text": [
      "Johansen Cointegration Test Results:\n",
      "------------------------------------\n",
      "Null hypothesis of rank = 0 is rejected\n",
      "Trace Statistic: 9661.67, 95% Critical Value: nan\n",
      "Eigenvalue: 0.4493\n",
      "\n",
      "Null hypothesis of rank = 1 is rejected\n",
      "Trace Statistic: 9066.23, 95% Critical Value: nan\n",
      "Eigenvalue: 0.4361\n",
      "\n",
      "Null hypothesis of rank = 2 is rejected\n",
      "Trace Statistic: 8494.45, 95% Critical Value: nan\n",
      "Eigenvalue: 0.4230\n",
      "\n",
      "Null hypothesis of rank = 3 is rejected\n",
      "Trace Statistic: 7945.60, 95% Critical Value: nan\n",
      "Eigenvalue: 0.4056\n",
      "\n",
      "Null hypothesis of rank = 4 is rejected\n",
      "Trace Statistic: 7426.48, 95% Critical Value: nan\n",
      "Eigenvalue: 0.3995\n",
      "\n",
      "Null hypothesis of rank = 5 is rejected\n",
      "Trace Statistic: 6917.52, 95% Critical Value: nan\n",
      "Eigenvalue: 0.3861\n",
      "\n",
      "Null hypothesis of rank = 6 is rejected\n",
      "Trace Statistic: 6430.52, 95% Critical Value: nan\n",
      "Eigenvalue: 0.3828\n",
      "\n",
      "Null hypothesis of rank = 7 is rejected\n",
      "Trace Statistic: 5948.92, 95% Critical Value: nan\n",
      "Eigenvalue: 0.3718\n",
      "\n",
      "Null hypothesis of rank = 8 is rejected\n",
      "Trace Statistic: 5484.98, 95% Critical Value: nan\n",
      "Eigenvalue: 0.3614\n",
      "\n",
      "Null hypothesis of rank = 9 is rejected\n",
      "Trace Statistic: 5037.46, 95% Critical Value: nan\n",
      "Eigenvalue: 0.3492\n",
      "\n",
      "Null hypothesis of rank = 10 is rejected\n",
      "Trace Statistic: 4608.84, 95% Critical Value: nan\n",
      "Eigenvalue: 0.3468\n",
      "\n",
      "Null hypothesis of rank = 11 is rejected\n",
      "Trace Statistic: 4183.75, 95% Critical Value: nan\n",
      "Eigenvalue: 0.3428\n",
      "\n",
      "Null hypothesis of rank = 12 is rejected\n",
      "Trace Statistic: 3764.89, 95% Critical Value: 334.98\n",
      "Eigenvalue: 0.3312\n",
      "\n",
      "Null hypothesis of rank = 13 is rejected\n",
      "Trace Statistic: 3363.44, 95% Critical Value: 285.14\n",
      "Eigenvalue: 0.3225\n",
      "\n",
      "Null hypothesis of rank = 14 is rejected\n",
      "Trace Statistic: 2974.90, 95% Critical Value: 239.25\n",
      "Eigenvalue: 0.3143\n",
      "\n",
      "Null hypothesis of rank = 15 is rejected\n",
      "Trace Statistic: 2598.41, 95% Critical Value: 197.38\n",
      "Eigenvalue: 0.3076\n",
      "\n",
      "Null hypothesis of rank = 16 is rejected\n",
      "Trace Statistic: 2231.53, 95% Critical Value: 159.53\n",
      "Eigenvalue: 0.3001\n",
      "\n",
      "Null hypothesis of rank = 17 is rejected\n",
      "Trace Statistic: 1875.41, 95% Critical Value: 125.62\n",
      "Eigenvalue: 0.2899\n",
      "\n",
      "Null hypothesis of rank = 18 is rejected\n",
      "Trace Statistic: 1533.81, 95% Critical Value: 95.75\n",
      "Eigenvalue: 0.2767\n",
      "\n",
      "Null hypothesis of rank = 19 is rejected\n",
      "Trace Statistic: 1210.50, 95% Critical Value: 69.82\n",
      "Eigenvalue: 0.2743\n",
      "\n",
      "Null hypothesis of rank = 20 is rejected\n",
      "Trace Statistic: 890.51, 95% Critical Value: 47.85\n",
      "Eigenvalue: 0.2596\n",
      "\n",
      "Null hypothesis of rank = 21 is rejected\n",
      "Trace Statistic: 590.52, 95% Critical Value: 29.80\n",
      "Eigenvalue: 0.2578\n",
      "\n",
      "Null hypothesis of rank = 22 is rejected\n",
      "Trace Statistic: 292.96, 95% Critical Value: 15.49\n",
      "Eigenvalue: 0.2460\n",
      "\n",
      "Null hypothesis of rank = 23 is rejected\n",
      "Trace Statistic: 11.16, 95% Critical Value: 3.84\n",
      "Eigenvalue: 0.0111\n",
      "\n"
     ]
    },
    {
     "name": "stderr",
     "output_type": "stream",
     "text": [
      "C:\\Users\\suler\\anaconda3\\lib\\site-packages\\statsmodels\\tsa\\vector_ar\\vecm.py:648: HypothesisTestWarning: Critical values are only available for time series with 12 variables at most.\n",
      "  warnings.warn(\n"
     ]
    }
   ],
   "source": [
    "def perform_johansen_test(data, det_order=0, k_ar_diff=1):\n",
    "    result = coint_johansen(data, det_order, k_ar_diff)\n",
    "    trace_stat = result.trace_stat\n",
    "    crit_values = result.trace_stat_crit_vals\n",
    "    eigenvalues = result.eig\n",
    "\n",
    "    print(\"Johansen Cointegration Test Results:\")\n",
    "    print(\"------------------------------------\")\n",
    "    for r in range(len(trace_stat)):\n",
    "        conclusion = \"not rejected\" if trace_stat[r] < crit_values[r, 1] else \"rejected\"\n",
    "        print(f\"Null hypothesis of rank = {r} is {conclusion}\")\n",
    "        print(f\"Trace Statistic: {trace_stat[r]:.2f}, 95% Critical Value: {crit_values[r, 1]:.2f}\")\n",
    "        print(f\"Eigenvalue: {eigenvalues[r]:.4f}\\n\")\n",
    "\n",
    "perform_johansen_test(df) "
   ]
  },
  {
   "cell_type": "code",
   "execution_count": 21,
   "id": "b7961bc1",
   "metadata": {},
   "outputs": [],
   "source": [
    "vecm = VECM(df.iloc[0:990], k_ar_diff=1, coint_rank=1)  "
   ]
  },
  {
   "cell_type": "code",
   "execution_count": 22,
   "id": "40910ea9",
   "metadata": {},
   "outputs": [
    {
     "data": {
      "text/plain": [
       "<statsmodels.tsa.vector_ar.vecm.VECM at 0x1d6a5b4eef0>"
      ]
     },
     "execution_count": 22,
     "metadata": {},
     "output_type": "execute_result"
    }
   ],
   "source": [
    "vecm"
   ]
  },
  {
   "cell_type": "code",
   "execution_count": 23,
   "id": "727bd45f",
   "metadata": {},
   "outputs": [],
   "source": [
    "vecm_fitted = vecm.fit()"
   ]
  },
  {
   "cell_type": "code",
   "execution_count": 24,
   "id": "bfa53464",
   "metadata": {},
   "outputs": [
    {
     "data": {
      "text/plain": [
       "<statsmodels.tsa.vector_ar.vecm.VECMResults at 0x1d6a610d3f0>"
      ]
     },
     "execution_count": 24,
     "metadata": {},
     "output_type": "execute_result"
    }
   ],
   "source": [
    "vecm_fitted"
   ]
  },
  {
   "cell_type": "code",
   "execution_count": 25,
   "id": "2710659e",
   "metadata": {},
   "outputs": [],
   "source": [
    "n_forecast_steps = 10  \n",
    "forecast, lower, upper = vecm_fitted.predict(n_forecast_steps, alpha=0.05)\n",
    "\n",
    "forecast_df = pd.DataFrame(forecast, index=pd.date_range(start=df.iloc[0:990].index[-1], \n",
    "                           periods=n_forecast_steps + 1, closed='right'), \n",
    "                           columns=df.iloc[0:990].columns)"
   ]
  },
  {
   "cell_type": "code",
   "execution_count": 26,
   "id": "0d567e4e",
   "metadata": {},
   "outputs": [
    {
     "name": "stdout",
     "output_type": "stream",
     "text": [
      "1972-09-17    22.488044\n",
      "1972-09-18    22.810438\n",
      "1972-09-19    22.548807\n",
      "1972-09-20    22.623835\n",
      "1972-09-21    22.576450\n",
      "1972-09-22    22.634415\n",
      "1972-09-23    22.591064\n",
      "1972-09-24    22.614784\n",
      "1972-09-25    22.601411\n",
      "1972-09-26    22.610067\n",
      "Freq: D, Name: Rainfall, dtype: float64\n"
     ]
    }
   ],
   "source": [
    "print(forecast_df['Rainfall'])  "
   ]
  },
  {
   "cell_type": "code",
   "execution_count": 27,
   "id": "0a021724",
   "metadata": {},
   "outputs": [
    {
     "data": {
      "text/plain": [
       "Date\n",
       "1972-09-17    21.0\n",
       "1972-09-18    22.0\n",
       "1972-09-19    23.0\n",
       "1972-09-20    25.0\n",
       "1972-09-21    22.0\n",
       "1972-09-22    22.0\n",
       "1972-09-23    21.0\n",
       "1972-09-24    23.0\n",
       "1972-09-25    21.0\n",
       "1972-09-26    21.0\n",
       "Name: Rainfall, dtype: float64"
      ]
     },
     "execution_count": 27,
     "metadata": {},
     "output_type": "execute_result"
    }
   ],
   "source": [
    "df['Rainfall'].tail(10)"
   ]
  },
  {
   "cell_type": "code",
   "execution_count": 28,
   "id": "19e76dc8",
   "metadata": {},
   "outputs": [
    {
     "name": "stdout",
     "output_type": "stream",
     "text": [
      "1.3150022709566052\n"
     ]
    }
   ],
   "source": [
    "rmse_results = rmse(df['Rainfall'].tail(10), forecast_df['Rainfall'])\n",
    "print(rmse_results)"
   ]
  },
  {
   "cell_type": "code",
   "execution_count": 29,
   "id": "0124d1be",
   "metadata": {},
   "outputs": [
    {
     "data": {
      "image/png": "[encoded data removed]",
      "text/plain": [
       "<Figure size 1200x600 with 1 Axes>"
      ]
     },
     "metadata": {},
     "output_type": "display_data"
    }
   ],
   "source": [
    "plt.figure(figsize=(12,6))\n",
    "plt.plot(df.tail(10)['Rainfall'], label='Actual')\n",
    "plt.plot(forecast_df['Rainfall'], label='Predicted')\n",
    "plt.xlabel('Time')\n",
    "plt.ylabel('Value')\n",
    "plt.legend()\n",
    "plt.show()"
   ]
  },
  {
   "cell_type": "markdown",
   "id": "ed35543a",
   "metadata": {},
   "source": [
    "### VARMAX"
   ]
  },
  {
   "cell_type": "code",
   "execution_count": 30,
   "id": "7bd9908a",
   "metadata": {},
   "outputs": [],
   "source": [
    "import pandas as pd\n",
    "from statsmodels.tsa.statespace.varmax import VARMAX\n",
    "from statsmodels.tsa.stattools import adfuller\n",
    "from pmdarima import auto_arima\n",
    "import matplotlib.pyplot as plt\n",
    "from sklearn.metrics import mean_squared_error\n",
    "from math import sqrt"
   ]
  },
  {
   "cell_type": "code",
   "execution_count": 31,
   "id": "d3150762",
   "metadata": {},
   "outputs": [],
   "source": [
    "df = pd.read_csv('WeatherData.csv', index_col='Date', parse_dates=['Date'])"
   ]
  },
  {
   "cell_type": "code",
   "execution_count": 32,
   "id": "42d45e3f",
   "metadata": {},
   "outputs": [],
   "source": [
    "endog = df.loc['2010-01-01':'2023-10-20', ['Pressure', 'Velocity of Wind', 'Carbon Monoxide', 'Rainfall']]"
   ]
  },
  {
   "cell_type": "code",
   "execution_count": 33,
   "id": "6def77b9",
   "metadata": {},
   "outputs": [],
   "source": [
    "exog = endog['Rainfall']\n",
    "mod = VARMAX(endog[['Pressure', 'Velocity of Wind', 'Carbon Monoxide']], order=(2,0), trend='n', exog=exog)\n",
    "res = mod.fit(maxiter=1000, disp=False)"
   ]
  },
  {
   "cell_type": "code",
   "execution_count": 34,
   "id": "bcb4ac37",
   "metadata": {},
   "outputs": [
    {
     "data": {
      "text/html": [
       "<table class=\"simpletable\">\n",
       "<caption>Statespace Model Results</caption>\n",
       "<tr>\n",
       "  <th>Dep. Variable:</th>   <td>['Pressure', 'Velocity of Wind', 'Carbon Monoxide']</td> <th>  No. Observations:  </th>    <td>5041</td>   \n",
       "</tr>\n",
       "<tr>\n",
       "  <th>Model:</th>                                 <td>VARX(2)</td>                       <th>  Log Likelihood     </th> <td>-19871.244</td>\n",
       "</tr>\n",
       "<tr>\n",
       "  <th>Date:</th>                             <td>Tue, 12 Dec 2023</td>                   <th>  AIC                </th>  <td>39796.488</td>\n",
       "</tr>\n",
       "<tr>\n",
       "  <th>Time:</th>                                 <td>05:31:12</td>                       <th>  BIC                </th>  <td>39972.672</td>\n",
       "</tr>\n",
       "<tr>\n",
       "  <th>Sample:</th>                              <td>01-01-2010</td>                      <th>  HQIC               </th>  <td>39858.212</td>\n",
       "</tr>\n",
       "<tr>\n",
       "  <th></th>                                    <td>- 10-20-2023</td>                     <th>                     </th>      <td> </td>    \n",
       "</tr>\n",
       "<tr>\n",
       "  <th>Covariance Type:</th>                         <td>opg</td>                         <th>                     </th>      <td> </td>    \n",
       "</tr>\n",
       "</table>\n",
       "<table class=\"simpletable\">\n",
       "<tr>\n",
       "  <th>Ljung-Box (L1) (Q):</th>     <td>664.74, 4912.17, 0.61</td> <th>  Jarque-Bera (JB):  </th> <td>14.90, 787.99, 2463080046.77</td>\n",
       "</tr>\n",
       "<tr>\n",
       "  <th>Prob(Q):</th>                  <td>0.00, 0.00, 0.44</td>    <th>  Prob(JB):          </th>       <td>0.00, 0.00, 0.00</td>      \n",
       "</tr>\n",
       "<tr>\n",
       "  <th>Heteroskedasticity (H):</th>   <td>2.18, 2.46, 1.16</td>    <th>  Skew:              </th>      <td>-0.01, 0.95, -50.98</td>    \n",
       "</tr>\n",
       "<tr>\n",
       "  <th>Prob(H) (two-sided):</th>      <td>0.00, 0.00, 0.00</td>    <th>  Kurtosis:          </th>      <td>3.27, 3.39, 3425.90</td>    \n",
       "</tr>\n",
       "</table>\n",
       "<table class=\"simpletable\">\n",
       "<caption>Results for equation Pressure</caption>\n",
       "<tr>\n",
       "           <td></td>              <th>coef</th>     <th>std err</th>      <th>z</th>      <th>P>|z|</th>  <th>[0.025</th>    <th>0.975]</th>  \n",
       "</tr>\n",
       "<tr>\n",
       "  <th>L1.Pressure</th>         <td>   -0.0033</td> <td>    0.008</td> <td>   -0.414</td> <td> 0.679</td> <td>   -0.019</td> <td>    0.012</td>\n",
       "</tr>\n",
       "<tr>\n",
       "  <th>L1.Velocity of Wind</th> <td>   -0.1434</td> <td>    0.068</td> <td>   -2.112</td> <td> 0.035</td> <td>   -0.277</td> <td>   -0.010</td>\n",
       "</tr>\n",
       "<tr>\n",
       "  <th>L1.Carbon Monoxide</th>  <td>   13.9361</td> <td>    0.000</td> <td>  5.9e+04</td> <td> 0.000</td> <td>   13.936</td> <td>   13.937</td>\n",
       "</tr>\n",
       "<tr>\n",
       "  <th>L2.Pressure</th>         <td>   -0.0700</td> <td>    0.008</td> <td>   -8.562</td> <td> 0.000</td> <td>   -0.086</td> <td>   -0.054</td>\n",
       "</tr>\n",
       "<tr>\n",
       "  <th>L2.Velocity of Wind</th> <td>    2.2210</td> <td>    0.068</td> <td>   32.820</td> <td> 0.000</td> <td>    2.088</td> <td>    2.354</td>\n",
       "</tr>\n",
       "<tr>\n",
       "  <th>L2.Carbon Monoxide</th>  <td>   21.8708</td> <td>    0.000</td> <td>  7.4e+04</td> <td> 0.000</td> <td>   21.870</td> <td>   21.871</td>\n",
       "</tr>\n",
       "<tr>\n",
       "  <th>beta.Rainfall</th>       <td>   34.6775</td> <td>    0.174</td> <td>  199.696</td> <td> 0.000</td> <td>   34.337</td> <td>   35.018</td>\n",
       "</tr>\n",
       "</table>\n",
       "<table class=\"simpletable\">\n",
       "<caption>Results for equation Velocity of Wind</caption>\n",
       "<tr>\n",
       "           <td></td>              <th>coef</th>     <th>std err</th>      <th>z</th>      <th>P>|z|</th>  <th>[0.025</th>    <th>0.975]</th>  \n",
       "</tr>\n",
       "<tr>\n",
       "  <th>L1.Pressure</th>         <td>   -0.0039</td> <td>    0.169</td> <td>   -0.023</td> <td> 0.982</td> <td>   -0.335</td> <td>    0.327</td>\n",
       "</tr>\n",
       "<tr>\n",
       "  <th>L1.Velocity of Wind</th> <td>    0.1846</td> <td>    0.082</td> <td>    2.252</td> <td> 0.024</td> <td>    0.024</td> <td>    0.345</td>\n",
       "</tr>\n",
       "<tr>\n",
       "  <th>L1.Carbon Monoxide</th>  <td>   -1.5427</td> <td>    0.001</td> <td>-3023.202</td> <td> 0.000</td> <td>   -1.544</td> <td>   -1.542</td>\n",
       "</tr>\n",
       "<tr>\n",
       "  <th>L2.Pressure</th>         <td>   -0.0206</td> <td>    0.169</td> <td>   -0.122</td> <td> 0.903</td> <td>   -0.352</td> <td>    0.310</td>\n",
       "</tr>\n",
       "<tr>\n",
       "  <th>L2.Velocity of Wind</th> <td>    0.7940</td> <td>    0.083</td> <td>    9.522</td> <td> 0.000</td> <td>    0.631</td> <td>    0.957</td>\n",
       "</tr>\n",
       "<tr>\n",
       "  <th>L2.Carbon Monoxide</th>  <td>    0.8793</td> <td>    0.000</td> <td> 3322.149</td> <td> 0.000</td> <td>    0.879</td> <td>    0.880</td>\n",
       "</tr>\n",
       "<tr>\n",
       "  <th>beta.Rainfall</th>       <td>    0.8832</td> <td>    0.074</td> <td>   11.861</td> <td> 0.000</td> <td>    0.737</td> <td>    1.029</td>\n",
       "</tr>\n",
       "</table>\n",
       "<table class=\"simpletable\">\n",
       "<caption>Results for equation Carbon Monoxide</caption>\n",
       "<tr>\n",
       "           <td></td>              <th>coef</th>     <th>std err</th>      <th>z</th>      <th>P>|z|</th>  <th>[0.025</th>    <th>0.975]</th>  \n",
       "</tr>\n",
       "<tr>\n",
       "  <th>L1.Pressure</th>         <td> 3.285e-06</td> <td>    0.005</td> <td>    0.001</td> <td> 0.999</td> <td>   -0.010</td> <td>    0.010</td>\n",
       "</tr>\n",
       "<tr>\n",
       "  <th>L1.Velocity of Wind</th> <td>   -0.0007</td> <td>    0.125</td> <td>   -0.005</td> <td> 0.996</td> <td>   -0.246</td> <td>    0.244</td>\n",
       "</tr>\n",
       "<tr>\n",
       "  <th>L1.Carbon Monoxide</th>  <td>    0.0264</td> <td>    0.162</td> <td>    0.162</td> <td> 0.871</td> <td>   -0.292</td> <td>    0.345</td>\n",
       "</tr>\n",
       "<tr>\n",
       "  <th>L2.Pressure</th>         <td>  1.14e-05</td> <td>    0.004</td> <td>    0.003</td> <td> 0.998</td> <td>   -0.008</td> <td>    0.008</td>\n",
       "</tr>\n",
       "<tr>\n",
       "  <th>L2.Velocity of Wind</th> <td>   -0.0010</td> <td>    0.126</td> <td>   -0.008</td> <td> 0.994</td> <td>   -0.247</td> <td>    0.245</td>\n",
       "</tr>\n",
       "<tr>\n",
       "  <th>L2.Carbon Monoxide</th>  <td>    0.0242</td> <td>    0.128</td> <td>    0.189</td> <td> 0.850</td> <td>   -0.226</td> <td>    0.275</td>\n",
       "</tr>\n",
       "<tr>\n",
       "  <th>beta.Rainfall</th>       <td>    0.0218</td> <td>    0.164</td> <td>    0.133</td> <td> 0.894</td> <td>   -0.299</td> <td>    0.342</td>\n",
       "</tr>\n",
       "</table>\n",
       "<table class=\"simpletable\">\n",
       "<caption>Error covariance matrix</caption>\n",
       "<tr>\n",
       "                      <td></td>                         <th>coef</th>     <th>std err</th>      <th>z</th>      <th>P>|z|</th>  <th>[0.025</th>    <th>0.975]</th>  \n",
       "</tr>\n",
       "<tr>\n",
       "  <th>sqrt.var.Pressure</th>                         <td>   54.6937</td> <td>    0.112</td> <td>  489.761</td> <td> 0.000</td> <td>   54.475</td> <td>   54.913</td>\n",
       "</tr>\n",
       "<tr>\n",
       "  <th>sqrt.cov.Pressure.Velocity of Wind</th>        <td>    1.4640</td> <td>    0.051</td> <td>   28.893</td> <td> 0.000</td> <td>    1.365</td> <td>    1.563</td>\n",
       "</tr>\n",
       "<tr>\n",
       "  <th>sqrt.var.Velocity of Wind</th>                 <td>    1.8074</td> <td>    0.041</td> <td>   44.333</td> <td> 0.000</td> <td>    1.728</td> <td>    1.887</td>\n",
       "</tr>\n",
       "<tr>\n",
       "  <th>sqrt.cov.Pressure.Carbon Monoxide</th>         <td>    0.0341</td> <td>    0.263</td> <td>    0.130</td> <td> 0.897</td> <td>   -0.481</td> <td>    0.549</td>\n",
       "</tr>\n",
       "<tr>\n",
       "  <th>sqrt.cov.Velocity of Wind.Carbon Monoxide</th> <td>   -0.0061</td> <td>    0.189</td> <td>   -0.032</td> <td> 0.974</td> <td>   -0.376</td> <td>    0.364</td>\n",
       "</tr>\n",
       "<tr>\n",
       "  <th>sqrt.var.Carbon Monoxide</th>                  <td>    0.0078</td> <td> 5.35e-06</td> <td> 1462.076</td> <td> 0.000</td> <td>    0.008</td> <td>    0.008</td>\n",
       "</tr>\n",
       "</table><br/><br/>Warnings:<br/>[1] Covariance matrix calculated using the outer product of gradients (complex-step).<br/>[2] Covariance matrix is singular or near-singular, with condition number 1.89e+21. Standard errors may be unstable."
      ],
      "text/plain": [
       "<class 'statsmodels.iolib.summary.Summary'>\n",
       "\"\"\"\n",
       "                                            Statespace Model Results                                           \n",
       "===============================================================================================================\n",
       "Dep. Variable:     ['Pressure', 'Velocity of Wind', 'Carbon Monoxide']   No. Observations:                 5041\n",
       "Model:                                                         VARX(2)   Log Likelihood              -19871.244\n",
       "Date:                                                 Tue, 12 Dec 2023   AIC                          39796.488\n",
       "Time:                                                         05:31:12   BIC                          39972.672\n",
       "Sample:                                                     01-01-2010   HQIC                         39858.212\n",
       "                                                          - 10-20-2023                                         \n",
       "Covariance Type:                                                   opg                                         \n",
       "================================================================================================\n",
       "Ljung-Box (L1) (Q):     664.74, 4912.17, 0.61   Jarque-Bera (JB):   14.90, 787.99, 2463080046.77\n",
       "Prob(Q):                     0.00, 0.00, 0.44   Prob(JB):                       0.00, 0.00, 0.00\n",
       "Heteroskedasticity (H):      2.18, 2.46, 1.16   Skew:                        -0.01, 0.95, -50.98\n",
       "Prob(H) (two-sided):         0.00, 0.00, 0.00   Kurtosis:                    3.27, 3.39, 3425.90\n",
       "                             Results for equation Pressure                             \n",
       "=======================================================================================\n",
       "                          coef    std err          z      P>|z|      [0.025      0.975]\n",
       "---------------------------------------------------------------------------------------\n",
       "L1.Pressure            -0.0033      0.008     -0.414      0.679      -0.019       0.012\n",
       "L1.Velocity of Wind    -0.1434      0.068     -2.112      0.035      -0.277      -0.010\n",
       "L1.Carbon Monoxide     13.9361      0.000    5.9e+04      0.000      13.936      13.937\n",
       "L2.Pressure            -0.0700      0.008     -8.562      0.000      -0.086      -0.054\n",
       "L2.Velocity of Wind     2.2210      0.068     32.820      0.000       2.088       2.354\n",
       "L2.Carbon Monoxide     21.8708      0.000    7.4e+04      0.000      21.870      21.871\n",
       "beta.Rainfall          34.6775      0.174    199.696      0.000      34.337      35.018\n",
       "                         Results for equation Velocity of Wind                         \n",
       "=======================================================================================\n",
       "                          coef    std err          z      P>|z|      [0.025      0.975]\n",
       "---------------------------------------------------------------------------------------\n",
       "L1.Pressure            -0.0039      0.169     -0.023      0.982      -0.335       0.327\n",
       "L1.Velocity of Wind     0.1846      0.082      2.252      0.024       0.024       0.345\n",
       "L1.Carbon Monoxide     -1.5427      0.001  -3023.202      0.000      -1.544      -1.542\n",
       "L2.Pressure            -0.0206      0.169     -0.122      0.903      -0.352       0.310\n",
       "L2.Velocity of Wind     0.7940      0.083      9.522      0.000       0.631       0.957\n",
       "L2.Carbon Monoxide      0.8793      0.000   3322.149      0.000       0.879       0.880\n",
       "beta.Rainfall           0.8832      0.074     11.861      0.000       0.737       1.029\n",
       "                          Results for equation Carbon Monoxide                         \n",
       "=======================================================================================\n",
       "                          coef    std err          z      P>|z|      [0.025      0.975]\n",
       "---------------------------------------------------------------------------------------\n",
       "L1.Pressure          3.285e-06      0.005      0.001      0.999      -0.010       0.010\n",
       "L1.Velocity of Wind    -0.0007      0.125     -0.005      0.996      -0.246       0.244\n",
       "L1.Carbon Monoxide      0.0264      0.162      0.162      0.871      -0.292       0.345\n",
       "L2.Pressure           1.14e-05      0.004      0.003      0.998      -0.008       0.008\n",
       "L2.Velocity of Wind    -0.0010      0.126     -0.008      0.994      -0.247       0.245\n",
       "L2.Carbon Monoxide      0.0242      0.128      0.189      0.850      -0.226       0.275\n",
       "beta.Rainfall           0.0218      0.164      0.133      0.894      -0.299       0.342\n",
       "                                           Error covariance matrix                                           \n",
       "=============================================================================================================\n",
       "                                                coef    std err          z      P>|z|      [0.025      0.975]\n",
       "-------------------------------------------------------------------------------------------------------------\n",
       "sqrt.var.Pressure                            54.6937      0.112    489.761      0.000      54.475      54.913\n",
       "sqrt.cov.Pressure.Velocity of Wind            1.4640      0.051     28.893      0.000       1.365       1.563\n",
       "sqrt.var.Velocity of Wind                     1.8074      0.041     44.333      0.000       1.728       1.887\n",
       "sqrt.cov.Pressure.Carbon Monoxide             0.0341      0.263      0.130      0.897      -0.481       0.549\n",
       "sqrt.cov.Velocity of Wind.Carbon Monoxide    -0.0061      0.189     -0.032      0.974      -0.376       0.364\n",
       "sqrt.var.Carbon Monoxide                      0.0078   5.35e-06   1462.076      0.000       0.008       0.008\n",
       "=============================================================================================================\n",
       "\n",
       "Warnings:\n",
       "[1] Covariance matrix calculated using the outer product of gradients (complex-step).\n",
       "[2] Covariance matrix is singular or near-singular, with condition number 1.89e+21. Standard errors may be unstable.\n",
       "\"\"\""
      ]
     },
     "execution_count": 34,
     "metadata": {},
     "output_type": "execute_result"
    }
   ],
   "source": [
    "res.summary()"
   ]
  },
  {
   "cell_type": "code",
   "execution_count": 35,
   "id": "38026c74",
   "metadata": {},
   "outputs": [],
   "source": [
    "predictions = res.predict(start=endog.index[0], end=endog.index[-1], exog=exog)"
   ]
  },
  {
   "cell_type": "code",
   "execution_count": 36,
   "id": "1abfce70",
   "metadata": {},
   "outputs": [
    {
     "data": {
      "text/plain": [
       "(               Pressure  Velocity of Wind  Carbon Monoxide\n",
       " 2010-01-01   729.611908         18.438828         0.460916\n",
       " 2010-01-02   708.760128          6.895492         0.484363\n",
       " 2010-01-03   735.045870          4.685985         0.510500\n",
       " 2010-01-04   735.048840          4.687553         0.510497\n",
       " 2010-01-05   735.052199          4.689223         0.510494\n",
       " ...                 ...               ...              ...\n",
       " 2023-10-16  1015.561805         62.449647         0.519225\n",
       " 2023-10-17   842.189700         58.053153         0.410082\n",
       " 2023-10-18   876.952361         58.976631         0.431829\n",
       " 2023-10-19   842.360261         58.133713         0.409942\n",
       " 2023-10-20   842.446192         58.174048         0.409872\n",
       " \n",
       " [5041 rows x 3 columns],\n",
       "             Pressure  Velocity of Wind  Carbon Monoxide\n",
       " Date                                                   \n",
       " 2010-01-01     712.0          3.068757         0.499999\n",
       " 2010-01-02     712.0          3.070291         0.500001\n",
       " 2010-01-03     712.0          3.072039         0.499985\n",
       " 2010-01-04     712.0          3.073688         0.499990\n",
       " 2010-01-05     712.0          3.075328         0.499995\n",
       " ...              ...               ...              ...\n",
       " 2023-10-16    1000.0         64.835214         0.500001\n",
       " 2023-10-17    1000.0         64.876419         0.499986\n",
       " 2023-10-18    1000.0         64.917654         0.499997\n",
       " 2023-10-19    1000.0         64.958744         0.499997\n",
       " 2023-10-20    1000.0         65.000000         0.499999\n",
       " \n",
       " [5041 rows x 3 columns])"
      ]
     },
     "execution_count": 36,
     "metadata": {},
     "output_type": "execute_result"
    }
   ],
   "source": [
    "predictions, endog[['Pressure', 'Velocity of Wind', 'Carbon Monoxide']]"
   ]
  },
  {
   "cell_type": "code",
   "execution_count": 38,
   "id": "a9b33f6f",
   "metadata": {},
   "outputs": [
    {
     "name": "stdout",
     "output_type": "stream",
     "text": [
      "RMSE values:\n",
      "Pressure: 68.94309221068534\n",
      "Velocity of Wind: 2.5266499786465606\n",
      "Carbon Monoxide: 0.042084851085070714\n"
     ]
    }
   ],
   "source": [
    "rmse_values = {}\n",
    "for column in ['Pressure', 'Velocity of Wind', 'Carbon Monoxide']:\n",
    "    rmse = sqrt(mean_squared_error(endog[column], predictions[column]))\n",
    "    rmse_values[column] = rmse\n",
    "\n",
    "print(\"RMSE values:\")\n",
    "for var, value in rmse_values.items():\n",
    "    print(f\"{var}: {value}\")\n"
   ]
  }
 ],
 "metadata": {
  "kernelspec": {
   "display_name": "Python 3 (ipykernel)",
   "language": "python",
   "name": "python3"
  },
  "language_info": {
   "codemirror_mode": {
    "name": "ipython",
    "version": 3
   },
   "file_extension": ".py",
   "mimetype": "text/x-python",
   "name": "python",
   "nbconvert_exporter": "python",
   "pygments_lexer": "ipython3",
   "version": "3.10.9"
  }
 },
 "nbformat": 4,
 "nbformat_minor": 5
}
