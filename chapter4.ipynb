{
 "cells": [
  {
   "cell_type": "code",
   "execution_count": 1,
   "id": "e8b7ea23",
   "metadata": {},
   "outputs": [],
   "source": [
    "import pandas as pd"
   ]
  },
  {
   "cell_type": "code",
   "execution_count": 2,
   "id": "8534dae0",
   "metadata": {},
   "outputs": [],
   "source": [
    "metropt = pd.read_csv(\"metropt.csv\")"
   ]
  },
  {
   "cell_type": "code",
   "execution_count": 3,
   "id": "e6e475c3",
   "metadata": {},
   "outputs": [
    {
     "data": {
      "text/plain": [
       "Index(['timestamp', 'TP2', 'TP3', 'H1', 'DV_pressure', 'Reservoirs',\n",
       "       'Oil_temperature', 'Motor_current', 'COMP', 'DV_eletric', 'Towers',\n",
       "       'MPG', 'LPS', 'Pressure_switch', 'Oil_level', 'Caudal_impulses'],\n",
       "      dtype='object')"
      ]
     },
     "execution_count": 3,
     "metadata": {},
     "output_type": "execute_result"
    }
   ],
   "source": [
    "metropt.columns"
   ]
  },
  {
   "cell_type": "code",
   "execution_count": 4,
   "id": "c4817b5f",
   "metadata": {
    "scrolled": true
   },
   "outputs": [
    {
     "data": {
      "text/plain": [
       "(1026, 16)"
      ]
     },
     "execution_count": 4,
     "metadata": {},
     "output_type": "execute_result"
    }
   ],
   "source": [
    "metropt.shape"
   ]
  },
  {
   "cell_type": "code",
   "execution_count": 5,
   "id": "43db4d0e",
   "metadata": {},
   "outputs": [
    {
     "data": {
      "text/plain": [
       "timestamp           object\n",
       "TP2                float64\n",
       "TP3                float64\n",
       "H1                 float64\n",
       "DV_pressure        float64\n",
       "Reservoirs         float64\n",
       "Oil_temperature    float64\n",
       "Motor_current      float64\n",
       "COMP                 int64\n",
       "DV_eletric           int64\n",
       "Towers               int64\n",
       "MPG                  int64\n",
       "LPS                  int64\n",
       "Pressure_switch      int64\n",
       "Oil_level            int64\n",
       "Caudal_impulses      int64\n",
       "dtype: object"
      ]
     },
     "execution_count": 5,
     "metadata": {},
     "output_type": "execute_result"
    }
   ],
   "source": [
    "metropt.dtypes"
   ]
  },
  {
   "cell_type": "code",
   "execution_count": 6,
   "id": "4e8e62be",
   "metadata": {},
   "outputs": [
    {
     "data": {
      "text/html": [
       "<div>\n",
       "<style scoped>\n",
       "    .dataframe tbody tr th:only-of-type {\n",
       "        vertical-align: middle;\n",
       "    }\n",
       "\n",
       "    .dataframe tbody tr th {\n",
       "        vertical-align: top;\n",
       "    }\n",
       "\n",
       "    .dataframe thead th {\n",
       "        text-align: right;\n",
       "    }\n",
       "</style>\n",
       "<table border=\"1\" class=\"dataframe\">\n",
       "  <thead>\n",
       "    <tr style=\"text-align: right;\">\n",
       "      <th></th>\n",
       "      <th>Data Type</th>\n",
       "    </tr>\n",
       "  </thead>\n",
       "  <tbody>\n",
       "    <tr>\n",
       "      <th>timestamp</th>\n",
       "      <td>object</td>\n",
       "    </tr>\n",
       "    <tr>\n",
       "      <th>TP2</th>\n",
       "      <td>float64</td>\n",
       "    </tr>\n",
       "    <tr>\n",
       "      <th>TP3</th>\n",
       "      <td>float64</td>\n",
       "    </tr>\n",
       "    <tr>\n",
       "      <th>H1</th>\n",
       "      <td>float64</td>\n",
       "    </tr>\n",
       "    <tr>\n",
       "      <th>DV_pressure</th>\n",
       "      <td>float64</td>\n",
       "    </tr>\n",
       "    <tr>\n",
       "      <th>Reservoirs</th>\n",
       "      <td>float64</td>\n",
       "    </tr>\n",
       "    <tr>\n",
       "      <th>Oil_temperature</th>\n",
       "      <td>float64</td>\n",
       "    </tr>\n",
       "    <tr>\n",
       "      <th>Motor_current</th>\n",
       "      <td>float64</td>\n",
       "    </tr>\n",
       "    <tr>\n",
       "      <th>COMP</th>\n",
       "      <td>int64</td>\n",
       "    </tr>\n",
       "    <tr>\n",
       "      <th>DV_eletric</th>\n",
       "      <td>int64</td>\n",
       "    </tr>\n",
       "    <tr>\n",
       "      <th>Towers</th>\n",
       "      <td>int64</td>\n",
       "    </tr>\n",
       "    <tr>\n",
       "      <th>MPG</th>\n",
       "      <td>int64</td>\n",
       "    </tr>\n",
       "    <tr>\n",
       "      <th>LPS</th>\n",
       "      <td>int64</td>\n",
       "    </tr>\n",
       "    <tr>\n",
       "      <th>Pressure_switch</th>\n",
       "      <td>int64</td>\n",
       "    </tr>\n",
       "    <tr>\n",
       "      <th>Oil_level</th>\n",
       "      <td>int64</td>\n",
       "    </tr>\n",
       "    <tr>\n",
       "      <th>Caudal_impulses</th>\n",
       "      <td>int64</td>\n",
       "    </tr>\n",
       "  </tbody>\n",
       "</table>\n",
       "</div>"
      ],
      "text/plain": [
       "                Data Type\n",
       "timestamp          object\n",
       "TP2               float64\n",
       "TP3               float64\n",
       "H1                float64\n",
       "DV_pressure       float64\n",
       "Reservoirs        float64\n",
       "Oil_temperature   float64\n",
       "Motor_current     float64\n",
       "COMP                int64\n",
       "DV_eletric          int64\n",
       "Towers              int64\n",
       "MPG                 int64\n",
       "LPS                 int64\n",
       "Pressure_switch     int64\n",
       "Oil_level           int64\n",
       "Caudal_impulses     int64"
      ]
     },
     "execution_count": 6,
     "metadata": {},
     "output_type": "execute_result"
    }
   ],
   "source": [
    "pd.DataFrame(data = metropt.dtypes, columns = ['Data Type'])"
   ]
  },
  {
   "cell_type": "code",
   "execution_count": 7,
   "id": "9073c29c",
   "metadata": {},
   "outputs": [],
   "source": [
    "metropt['timestamp'] = pd.to_datetime(metropt['timestamp'])"
   ]
  },
  {
   "cell_type": "code",
   "execution_count": 8,
   "id": "50fe5cd5",
   "metadata": {},
   "outputs": [
    {
     "data": {
      "text/plain": [
       "0      2020-01-02 00:00:00\n",
       "1      2020-01-02 00:00:00\n",
       "2      2020-01-02 00:00:00\n",
       "3      2020-01-02 00:00:00\n",
       "4      2020-01-02 00:00:00\n",
       "               ...        \n",
       "1021   2020-01-02 02:48:00\n",
       "1022   2020-01-02 02:48:00\n",
       "1023   2020-01-02 02:48:00\n",
       "1024   2020-01-02 02:49:00\n",
       "1025   2020-01-02 02:49:00\n",
       "Name: timestamp, Length: 1026, dtype: datetime64[ns]"
      ]
     },
     "execution_count": 8,
     "metadata": {},
     "output_type": "execute_result"
    }
   ],
   "source": [
    "metropt['timestamp']"
   ]
  },
  {
   "cell_type": "code",
   "execution_count": 9,
   "id": "8cf4e140",
   "metadata": {},
   "outputs": [
    {
     "data": {
      "text/html": [
       "<div>\n",
       "<style scoped>\n",
       "    .dataframe tbody tr th:only-of-type {\n",
       "        vertical-align: middle;\n",
       "    }\n",
       "\n",
       "    .dataframe tbody tr th {\n",
       "        vertical-align: top;\n",
       "    }\n",
       "\n",
       "    .dataframe thead th {\n",
       "        text-align: right;\n",
       "    }\n",
       "</style>\n",
       "<table border=\"1\" class=\"dataframe\">\n",
       "  <thead>\n",
       "    <tr style=\"text-align: right;\">\n",
       "      <th></th>\n",
       "      <th>0</th>\n",
       "      <th>1</th>\n",
       "      <th>2</th>\n",
       "      <th>3</th>\n",
       "      <th>4</th>\n",
       "    </tr>\n",
       "  </thead>\n",
       "  <tbody>\n",
       "    <tr>\n",
       "      <th>timestamp</th>\n",
       "      <td>2020-01-02 00:00:00</td>\n",
       "      <td>2020-01-02 00:00:00</td>\n",
       "      <td>2020-01-02 00:00:00</td>\n",
       "      <td>2020-01-02 00:00:00</td>\n",
       "      <td>2020-01-02 00:00:00</td>\n",
       "    </tr>\n",
       "    <tr>\n",
       "      <th>TP2</th>\n",
       "      <td>-0.012</td>\n",
       "      <td>-0.014</td>\n",
       "      <td>-0.012</td>\n",
       "      <td>-0.012</td>\n",
       "      <td>-0.012</td>\n",
       "    </tr>\n",
       "    <tr>\n",
       "      <th>TP3</th>\n",
       "      <td>9.358</td>\n",
       "      <td>9.348</td>\n",
       "      <td>9.338</td>\n",
       "      <td>9.328</td>\n",
       "      <td>9.318</td>\n",
       "    </tr>\n",
       "    <tr>\n",
       "      <th>H1</th>\n",
       "      <td>9.34</td>\n",
       "      <td>9.332</td>\n",
       "      <td>9.322</td>\n",
       "      <td>9.312</td>\n",
       "      <td>9.302</td>\n",
       "    </tr>\n",
       "    <tr>\n",
       "      <th>DV_pressure</th>\n",
       "      <td>-0.024</td>\n",
       "      <td>-0.022</td>\n",
       "      <td>-0.022</td>\n",
       "      <td>-0.022</td>\n",
       "      <td>-0.022</td>\n",
       "    </tr>\n",
       "    <tr>\n",
       "      <th>Reservoirs</th>\n",
       "      <td>9.358</td>\n",
       "      <td>9.348</td>\n",
       "      <td>9.338</td>\n",
       "      <td>9.328</td>\n",
       "      <td>9.318</td>\n",
       "    </tr>\n",
       "    <tr>\n",
       "      <th>Oil_temperature</th>\n",
       "      <td>53.6</td>\n",
       "      <td>53.675</td>\n",
       "      <td>53.6</td>\n",
       "      <td>53.425</td>\n",
       "      <td>53.475</td>\n",
       "    </tr>\n",
       "    <tr>\n",
       "      <th>Motor_current</th>\n",
       "      <td>0.04</td>\n",
       "      <td>0.04</td>\n",
       "      <td>0.0425</td>\n",
       "      <td>0.04</td>\n",
       "      <td>0.04</td>\n",
       "    </tr>\n",
       "    <tr>\n",
       "      <th>COMP</th>\n",
       "      <td>1</td>\n",
       "      <td>1</td>\n",
       "      <td>1</td>\n",
       "      <td>1</td>\n",
       "      <td>1</td>\n",
       "    </tr>\n",
       "    <tr>\n",
       "      <th>DV_eletric</th>\n",
       "      <td>0</td>\n",
       "      <td>0</td>\n",
       "      <td>0</td>\n",
       "      <td>0</td>\n",
       "      <td>0</td>\n",
       "    </tr>\n",
       "    <tr>\n",
       "      <th>Towers</th>\n",
       "      <td>1</td>\n",
       "      <td>1</td>\n",
       "      <td>1</td>\n",
       "      <td>1</td>\n",
       "      <td>1</td>\n",
       "    </tr>\n",
       "    <tr>\n",
       "      <th>MPG</th>\n",
       "      <td>1</td>\n",
       "      <td>1</td>\n",
       "      <td>1</td>\n",
       "      <td>1</td>\n",
       "      <td>1</td>\n",
       "    </tr>\n",
       "    <tr>\n",
       "      <th>LPS</th>\n",
       "      <td>0</td>\n",
       "      <td>0</td>\n",
       "      <td>0</td>\n",
       "      <td>0</td>\n",
       "      <td>0</td>\n",
       "    </tr>\n",
       "    <tr>\n",
       "      <th>Pressure_switch</th>\n",
       "      <td>1</td>\n",
       "      <td>1</td>\n",
       "      <td>1</td>\n",
       "      <td>1</td>\n",
       "      <td>1</td>\n",
       "    </tr>\n",
       "    <tr>\n",
       "      <th>Oil_level</th>\n",
       "      <td>1</td>\n",
       "      <td>1</td>\n",
       "      <td>1</td>\n",
       "      <td>1</td>\n",
       "      <td>1</td>\n",
       "    </tr>\n",
       "    <tr>\n",
       "      <th>Caudal_impulses</th>\n",
       "      <td>1</td>\n",
       "      <td>1</td>\n",
       "      <td>1</td>\n",
       "      <td>1</td>\n",
       "      <td>1</td>\n",
       "    </tr>\n",
       "  </tbody>\n",
       "</table>\n",
       "</div>"
      ],
      "text/plain": [
       "                                   0                    1  \\\n",
       "timestamp        2020-01-02 00:00:00  2020-01-02 00:00:00   \n",
       "TP2                           -0.012               -0.014   \n",
       "TP3                            9.358                9.348   \n",
       "H1                              9.34                9.332   \n",
       "DV_pressure                   -0.024               -0.022   \n",
       "Reservoirs                     9.358                9.348   \n",
       "Oil_temperature                 53.6               53.675   \n",
       "Motor_current                   0.04                 0.04   \n",
       "COMP                               1                    1   \n",
       "DV_eletric                         0                    0   \n",
       "Towers                             1                    1   \n",
       "MPG                                1                    1   \n",
       "LPS                                0                    0   \n",
       "Pressure_switch                    1                    1   \n",
       "Oil_level                          1                    1   \n",
       "Caudal_impulses                    1                    1   \n",
       "\n",
       "                                   2                    3                    4  \n",
       "timestamp        2020-01-02 00:00:00  2020-01-02 00:00:00  2020-01-02 00:00:00  \n",
       "TP2                           -0.012               -0.012               -0.012  \n",
       "TP3                            9.338                9.328                9.318  \n",
       "H1                             9.322                9.312                9.302  \n",
       "DV_pressure                   -0.022               -0.022               -0.022  \n",
       "Reservoirs                     9.338                9.328                9.318  \n",
       "Oil_temperature                 53.6               53.425               53.475  \n",
       "Motor_current                 0.0425                 0.04                 0.04  \n",
       "COMP                               1                    1                    1  \n",
       "DV_eletric                         0                    0                    0  \n",
       "Towers                             1                    1                    1  \n",
       "MPG                                1                    1                    1  \n",
       "LPS                                0                    0                    0  \n",
       "Pressure_switch                    1                    1                    1  \n",
       "Oil_level                          1                    1                    1  \n",
       "Caudal_impulses                    1                    1                    1  "
      ]
     },
     "execution_count": 9,
     "metadata": {},
     "output_type": "execute_result"
    }
   ],
   "source": [
    "metropt.head(5).transpose()"
   ]
  },
  {
   "cell_type": "code",
   "execution_count": 10,
   "id": "c451ad87",
   "metadata": {},
   "outputs": [
    {
     "data": {
      "text/html": [
       "<div>\n",
       "<style scoped>\n",
       "    .dataframe tbody tr th:only-of-type {\n",
       "        vertical-align: middle;\n",
       "    }\n",
       "\n",
       "    .dataframe tbody tr th {\n",
       "        vertical-align: top;\n",
       "    }\n",
       "\n",
       "    .dataframe thead th {\n",
       "        text-align: right;\n",
       "    }\n",
       "</style>\n",
       "<table border=\"1\" class=\"dataframe\">\n",
       "  <thead>\n",
       "    <tr style=\"text-align: right;\">\n",
       "      <th></th>\n",
       "      <th>count</th>\n",
       "      <th>mean</th>\n",
       "      <th>std</th>\n",
       "      <th>min</th>\n",
       "      <th>25%</th>\n",
       "      <th>50%</th>\n",
       "      <th>75%</th>\n",
       "      <th>max</th>\n",
       "    </tr>\n",
       "  </thead>\n",
       "  <tbody>\n",
       "    <tr>\n",
       "      <th>TP2</th>\n",
       "      <td>1026.0</td>\n",
       "      <td>0.436014</td>\n",
       "      <td>2.001841</td>\n",
       "      <td>-0.026</td>\n",
       "      <td>-0.014</td>\n",
       "      <td>-0.0140</td>\n",
       "      <td>-0.01200</td>\n",
       "      <td>10.4340</td>\n",
       "    </tr>\n",
       "    <tr>\n",
       "      <th>TP3</th>\n",
       "      <td>1026.0</td>\n",
       "      <td>8.959480</td>\n",
       "      <td>0.553638</td>\n",
       "      <td>8.066</td>\n",
       "      <td>8.472</td>\n",
       "      <td>8.9330</td>\n",
       "      <td>9.42350</td>\n",
       "      <td>10.0980</td>\n",
       "    </tr>\n",
       "    <tr>\n",
       "      <th>H1</th>\n",
       "      <td>1026.0</td>\n",
       "      <td>8.501996</td>\n",
       "      <td>2.002248</td>\n",
       "      <td>-0.028</td>\n",
       "      <td>8.384</td>\n",
       "      <td>8.8640</td>\n",
       "      <td>9.36750</td>\n",
       "      <td>10.1000</td>\n",
       "    </tr>\n",
       "    <tr>\n",
       "      <th>DV_pressure</th>\n",
       "      <td>1026.0</td>\n",
       "      <td>-0.023105</td>\n",
       "      <td>0.001037</td>\n",
       "      <td>-0.026</td>\n",
       "      <td>-0.024</td>\n",
       "      <td>-0.0240</td>\n",
       "      <td>-0.02200</td>\n",
       "      <td>-0.0140</td>\n",
       "    </tr>\n",
       "    <tr>\n",
       "      <th>Reservoirs</th>\n",
       "      <td>1026.0</td>\n",
       "      <td>8.959834</td>\n",
       "      <td>0.553394</td>\n",
       "      <td>8.064</td>\n",
       "      <td>8.471</td>\n",
       "      <td>8.9360</td>\n",
       "      <td>9.42550</td>\n",
       "      <td>10.0980</td>\n",
       "    </tr>\n",
       "    <tr>\n",
       "      <th>Oil_temperature</th>\n",
       "      <td>1026.0</td>\n",
       "      <td>51.820200</td>\n",
       "      <td>1.214192</td>\n",
       "      <td>49.225</td>\n",
       "      <td>50.825</td>\n",
       "      <td>52.2625</td>\n",
       "      <td>52.80000</td>\n",
       "      <td>53.8250</td>\n",
       "    </tr>\n",
       "    <tr>\n",
       "      <th>Motor_current</th>\n",
       "      <td>1026.0</td>\n",
       "      <td>1.126333</td>\n",
       "      <td>1.914070</td>\n",
       "      <td>0.035</td>\n",
       "      <td>0.040</td>\n",
       "      <td>0.0400</td>\n",
       "      <td>3.77875</td>\n",
       "      <td>6.3125</td>\n",
       "    </tr>\n",
       "    <tr>\n",
       "      <th>COMP</th>\n",
       "      <td>1026.0</td>\n",
       "      <td>0.950292</td>\n",
       "      <td>0.217446</td>\n",
       "      <td>0.000</td>\n",
       "      <td>1.000</td>\n",
       "      <td>1.0000</td>\n",
       "      <td>1.00000</td>\n",
       "      <td>1.0000</td>\n",
       "    </tr>\n",
       "    <tr>\n",
       "      <th>DV_eletric</th>\n",
       "      <td>1026.0</td>\n",
       "      <td>0.049708</td>\n",
       "      <td>0.217446</td>\n",
       "      <td>0.000</td>\n",
       "      <td>0.000</td>\n",
       "      <td>0.0000</td>\n",
       "      <td>0.00000</td>\n",
       "      <td>1.0000</td>\n",
       "    </tr>\n",
       "    <tr>\n",
       "      <th>Towers</th>\n",
       "      <td>1026.0</td>\n",
       "      <td>0.973684</td>\n",
       "      <td>0.160151</td>\n",
       "      <td>0.000</td>\n",
       "      <td>1.000</td>\n",
       "      <td>1.0000</td>\n",
       "      <td>1.00000</td>\n",
       "      <td>1.0000</td>\n",
       "    </tr>\n",
       "    <tr>\n",
       "      <th>MPG</th>\n",
       "      <td>1026.0</td>\n",
       "      <td>0.950292</td>\n",
       "      <td>0.217446</td>\n",
       "      <td>0.000</td>\n",
       "      <td>1.000</td>\n",
       "      <td>1.0000</td>\n",
       "      <td>1.00000</td>\n",
       "      <td>1.0000</td>\n",
       "    </tr>\n",
       "    <tr>\n",
       "      <th>LPS</th>\n",
       "      <td>1026.0</td>\n",
       "      <td>0.000000</td>\n",
       "      <td>0.000000</td>\n",
       "      <td>0.000</td>\n",
       "      <td>0.000</td>\n",
       "      <td>0.0000</td>\n",
       "      <td>0.00000</td>\n",
       "      <td>0.0000</td>\n",
       "    </tr>\n",
       "    <tr>\n",
       "      <th>Pressure_switch</th>\n",
       "      <td>1026.0</td>\n",
       "      <td>0.999025</td>\n",
       "      <td>0.031220</td>\n",
       "      <td>0.000</td>\n",
       "      <td>1.000</td>\n",
       "      <td>1.0000</td>\n",
       "      <td>1.00000</td>\n",
       "      <td>1.0000</td>\n",
       "    </tr>\n",
       "    <tr>\n",
       "      <th>Oil_level</th>\n",
       "      <td>1026.0</td>\n",
       "      <td>1.000000</td>\n",
       "      <td>0.000000</td>\n",
       "      <td>1.000</td>\n",
       "      <td>1.000</td>\n",
       "      <td>1.0000</td>\n",
       "      <td>1.00000</td>\n",
       "      <td>1.0000</td>\n",
       "    </tr>\n",
       "    <tr>\n",
       "      <th>Caudal_impulses</th>\n",
       "      <td>1026.0</td>\n",
       "      <td>1.000000</td>\n",
       "      <td>0.000000</td>\n",
       "      <td>1.000</td>\n",
       "      <td>1.000</td>\n",
       "      <td>1.0000</td>\n",
       "      <td>1.00000</td>\n",
       "      <td>1.0000</td>\n",
       "    </tr>\n",
       "  </tbody>\n",
       "</table>\n",
       "</div>"
      ],
      "text/plain": [
       "                  count       mean       std     min     25%      50%  \\\n",
       "TP2              1026.0   0.436014  2.001841  -0.026  -0.014  -0.0140   \n",
       "TP3              1026.0   8.959480  0.553638   8.066   8.472   8.9330   \n",
       "H1               1026.0   8.501996  2.002248  -0.028   8.384   8.8640   \n",
       "DV_pressure      1026.0  -0.023105  0.001037  -0.026  -0.024  -0.0240   \n",
       "Reservoirs       1026.0   8.959834  0.553394   8.064   8.471   8.9360   \n",
       "Oil_temperature  1026.0  51.820200  1.214192  49.225  50.825  52.2625   \n",
       "Motor_current    1026.0   1.126333  1.914070   0.035   0.040   0.0400   \n",
       "COMP             1026.0   0.950292  0.217446   0.000   1.000   1.0000   \n",
       "DV_eletric       1026.0   0.049708  0.217446   0.000   0.000   0.0000   \n",
       "Towers           1026.0   0.973684  0.160151   0.000   1.000   1.0000   \n",
       "MPG              1026.0   0.950292  0.217446   0.000   1.000   1.0000   \n",
       "LPS              1026.0   0.000000  0.000000   0.000   0.000   0.0000   \n",
       "Pressure_switch  1026.0   0.999025  0.031220   0.000   1.000   1.0000   \n",
       "Oil_level        1026.0   1.000000  0.000000   1.000   1.000   1.0000   \n",
       "Caudal_impulses  1026.0   1.000000  0.000000   1.000   1.000   1.0000   \n",
       "\n",
       "                      75%      max  \n",
       "TP2              -0.01200  10.4340  \n",
       "TP3               9.42350  10.0980  \n",
       "H1                9.36750  10.1000  \n",
       "DV_pressure      -0.02200  -0.0140  \n",
       "Reservoirs        9.42550  10.0980  \n",
       "Oil_temperature  52.80000  53.8250  \n",
       "Motor_current     3.77875   6.3125  \n",
       "COMP              1.00000   1.0000  \n",
       "DV_eletric        0.00000   1.0000  \n",
       "Towers            1.00000   1.0000  \n",
       "MPG               1.00000   1.0000  \n",
       "LPS               0.00000   0.0000  \n",
       "Pressure_switch   1.00000   1.0000  \n",
       "Oil_level         1.00000   1.0000  \n",
       "Caudal_impulses   1.00000   1.0000  "
      ]
     },
     "execution_count": 10,
     "metadata": {},
     "output_type": "execute_result"
    }
   ],
   "source": [
    "metropt.describe().transpose()"
   ]
  },
  {
   "cell_type": "code",
   "execution_count": 11,
   "id": "001476de",
   "metadata": {},
   "outputs": [
    {
     "data": {
      "text/html": [
       "<div>\n",
       "<style scoped>\n",
       "    .dataframe tbody tr th:only-of-type {\n",
       "        vertical-align: middle;\n",
       "    }\n",
       "\n",
       "    .dataframe tbody tr th {\n",
       "        vertical-align: top;\n",
       "    }\n",
       "\n",
       "    .dataframe thead th {\n",
       "        text-align: right;\n",
       "    }\n",
       "</style>\n",
       "<table border=\"1\" class=\"dataframe\">\n",
       "  <thead>\n",
       "    <tr style=\"text-align: right;\">\n",
       "      <th></th>\n",
       "      <th>Mean</th>\n",
       "    </tr>\n",
       "  </thead>\n",
       "  <tbody>\n",
       "    <tr>\n",
       "      <th>TP2</th>\n",
       "      <td>0.436014</td>\n",
       "    </tr>\n",
       "    <tr>\n",
       "      <th>TP3</th>\n",
       "      <td>8.959480</td>\n",
       "    </tr>\n",
       "    <tr>\n",
       "      <th>H1</th>\n",
       "      <td>8.501996</td>\n",
       "    </tr>\n",
       "    <tr>\n",
       "      <th>DV_pressure</th>\n",
       "      <td>-0.023105</td>\n",
       "    </tr>\n",
       "    <tr>\n",
       "      <th>Reservoirs</th>\n",
       "      <td>8.959834</td>\n",
       "    </tr>\n",
       "    <tr>\n",
       "      <th>Oil_temperature</th>\n",
       "      <td>51.820200</td>\n",
       "    </tr>\n",
       "    <tr>\n",
       "      <th>Motor_current</th>\n",
       "      <td>1.126333</td>\n",
       "    </tr>\n",
       "    <tr>\n",
       "      <th>COMP</th>\n",
       "      <td>0.950292</td>\n",
       "    </tr>\n",
       "    <tr>\n",
       "      <th>DV_eletric</th>\n",
       "      <td>0.049708</td>\n",
       "    </tr>\n",
       "    <tr>\n",
       "      <th>Towers</th>\n",
       "      <td>0.973684</td>\n",
       "    </tr>\n",
       "    <tr>\n",
       "      <th>MPG</th>\n",
       "      <td>0.950292</td>\n",
       "    </tr>\n",
       "    <tr>\n",
       "      <th>LPS</th>\n",
       "      <td>0.000000</td>\n",
       "    </tr>\n",
       "    <tr>\n",
       "      <th>Pressure_switch</th>\n",
       "      <td>0.999025</td>\n",
       "    </tr>\n",
       "    <tr>\n",
       "      <th>Oil_level</th>\n",
       "      <td>1.000000</td>\n",
       "    </tr>\n",
       "    <tr>\n",
       "      <th>Caudal_impulses</th>\n",
       "      <td>1.000000</td>\n",
       "    </tr>\n",
       "  </tbody>\n",
       "</table>\n",
       "</div>"
      ],
      "text/plain": [
       "                      Mean\n",
       "TP2               0.436014\n",
       "TP3               8.959480\n",
       "H1                8.501996\n",
       "DV_pressure      -0.023105\n",
       "Reservoirs        8.959834\n",
       "Oil_temperature  51.820200\n",
       "Motor_current     1.126333\n",
       "COMP              0.950292\n",
       "DV_eletric        0.049708\n",
       "Towers            0.973684\n",
       "MPG               0.950292\n",
       "LPS               0.000000\n",
       "Pressure_switch   0.999025\n",
       "Oil_level         1.000000\n",
       "Caudal_impulses   1.000000"
      ]
     },
     "execution_count": 11,
     "metadata": {},
     "output_type": "execute_result"
    }
   ],
   "source": [
    "pd.DataFrame(data = metropt.mean(numeric_only = True), columns = ['Mean'])"
   ]
  },
  {
   "cell_type": "code",
   "execution_count": 12,
   "id": "368acff5",
   "metadata": {},
   "outputs": [
    {
     "data": {
      "text/html": [
       "<div>\n",
       "<style scoped>\n",
       "    .dataframe tbody tr th:only-of-type {\n",
       "        vertical-align: middle;\n",
       "    }\n",
       "\n",
       "    .dataframe tbody tr th {\n",
       "        vertical-align: top;\n",
       "    }\n",
       "\n",
       "    .dataframe thead th {\n",
       "        text-align: right;\n",
       "    }\n",
       "</style>\n",
       "<table border=\"1\" class=\"dataframe\">\n",
       "  <thead>\n",
       "    <tr style=\"text-align: right;\">\n",
       "      <th></th>\n",
       "      <th>Median</th>\n",
       "    </tr>\n",
       "  </thead>\n",
       "  <tbody>\n",
       "    <tr>\n",
       "      <th>TP2</th>\n",
       "      <td>-0.0140</td>\n",
       "    </tr>\n",
       "    <tr>\n",
       "      <th>TP3</th>\n",
       "      <td>8.9330</td>\n",
       "    </tr>\n",
       "    <tr>\n",
       "      <th>H1</th>\n",
       "      <td>8.8640</td>\n",
       "    </tr>\n",
       "    <tr>\n",
       "      <th>DV_pressure</th>\n",
       "      <td>-0.0240</td>\n",
       "    </tr>\n",
       "    <tr>\n",
       "      <th>Reservoirs</th>\n",
       "      <td>8.9360</td>\n",
       "    </tr>\n",
       "    <tr>\n",
       "      <th>Oil_temperature</th>\n",
       "      <td>52.2625</td>\n",
       "    </tr>\n",
       "    <tr>\n",
       "      <th>Motor_current</th>\n",
       "      <td>0.0400</td>\n",
       "    </tr>\n",
       "    <tr>\n",
       "      <th>COMP</th>\n",
       "      <td>1.0000</td>\n",
       "    </tr>\n",
       "    <tr>\n",
       "      <th>DV_eletric</th>\n",
       "      <td>0.0000</td>\n",
       "    </tr>\n",
       "    <tr>\n",
       "      <th>Towers</th>\n",
       "      <td>1.0000</td>\n",
       "    </tr>\n",
       "    <tr>\n",
       "      <th>MPG</th>\n",
       "      <td>1.0000</td>\n",
       "    </tr>\n",
       "    <tr>\n",
       "      <th>LPS</th>\n",
       "      <td>0.0000</td>\n",
       "    </tr>\n",
       "    <tr>\n",
       "      <th>Pressure_switch</th>\n",
       "      <td>1.0000</td>\n",
       "    </tr>\n",
       "    <tr>\n",
       "      <th>Oil_level</th>\n",
       "      <td>1.0000</td>\n",
       "    </tr>\n",
       "    <tr>\n",
       "      <th>Caudal_impulses</th>\n",
       "      <td>1.0000</td>\n",
       "    </tr>\n",
       "  </tbody>\n",
       "</table>\n",
       "</div>"
      ],
      "text/plain": [
       "                  Median\n",
       "TP2              -0.0140\n",
       "TP3               8.9330\n",
       "H1                8.8640\n",
       "DV_pressure      -0.0240\n",
       "Reservoirs        8.9360\n",
       "Oil_temperature  52.2625\n",
       "Motor_current     0.0400\n",
       "COMP              1.0000\n",
       "DV_eletric        0.0000\n",
       "Towers            1.0000\n",
       "MPG               1.0000\n",
       "LPS               0.0000\n",
       "Pressure_switch   1.0000\n",
       "Oil_level         1.0000\n",
       "Caudal_impulses   1.0000"
      ]
     },
     "execution_count": 12,
     "metadata": {},
     "output_type": "execute_result"
    }
   ],
   "source": [
    "pd.DataFrame(data = metropt.median(numeric_only = True), columns = ['Median'])"
   ]
  },
  {
   "cell_type": "code",
   "execution_count": 13,
   "id": "7da019be",
   "metadata": {},
   "outputs": [
    {
     "data": {
      "text/html": [
       "<div>\n",
       "<style scoped>\n",
       "    .dataframe tbody tr th:only-of-type {\n",
       "        vertical-align: middle;\n",
       "    }\n",
       "\n",
       "    .dataframe tbody tr th {\n",
       "        vertical-align: top;\n",
       "    }\n",
       "\n",
       "    .dataframe thead th {\n",
       "        text-align: right;\n",
       "    }\n",
       "</style>\n",
       "<table border=\"1\" class=\"dataframe\">\n",
       "  <thead>\n",
       "    <tr style=\"text-align: right;\">\n",
       "      <th></th>\n",
       "      <th>0</th>\n",
       "    </tr>\n",
       "  </thead>\n",
       "  <tbody>\n",
       "    <tr>\n",
       "      <th>timestamp</th>\n",
       "      <td>2020-01-02 00:00:00</td>\n",
       "    </tr>\n",
       "    <tr>\n",
       "      <th>TP2</th>\n",
       "      <td>-0.014</td>\n",
       "    </tr>\n",
       "    <tr>\n",
       "      <th>TP3</th>\n",
       "      <td>9.392</td>\n",
       "    </tr>\n",
       "    <tr>\n",
       "      <th>H1</th>\n",
       "      <td>-0.014</td>\n",
       "    </tr>\n",
       "    <tr>\n",
       "      <th>DV_pressure</th>\n",
       "      <td>-0.024</td>\n",
       "    </tr>\n",
       "    <tr>\n",
       "      <th>Reservoirs</th>\n",
       "      <td>8.548</td>\n",
       "    </tr>\n",
       "    <tr>\n",
       "      <th>Oil_temperature</th>\n",
       "      <td>52.725</td>\n",
       "    </tr>\n",
       "    <tr>\n",
       "      <th>Motor_current</th>\n",
       "      <td>0.04</td>\n",
       "    </tr>\n",
       "    <tr>\n",
       "      <th>COMP</th>\n",
       "      <td>1.0</td>\n",
       "    </tr>\n",
       "    <tr>\n",
       "      <th>DV_eletric</th>\n",
       "      <td>0.0</td>\n",
       "    </tr>\n",
       "    <tr>\n",
       "      <th>Towers</th>\n",
       "      <td>1.0</td>\n",
       "    </tr>\n",
       "    <tr>\n",
       "      <th>MPG</th>\n",
       "      <td>1.0</td>\n",
       "    </tr>\n",
       "    <tr>\n",
       "      <th>LPS</th>\n",
       "      <td>0.0</td>\n",
       "    </tr>\n",
       "    <tr>\n",
       "      <th>Pressure_switch</th>\n",
       "      <td>1.0</td>\n",
       "    </tr>\n",
       "    <tr>\n",
       "      <th>Oil_level</th>\n",
       "      <td>1.0</td>\n",
       "    </tr>\n",
       "    <tr>\n",
       "      <th>Caudal_impulses</th>\n",
       "      <td>1.0</td>\n",
       "    </tr>\n",
       "  </tbody>\n",
       "</table>\n",
       "</div>"
      ],
      "text/plain": [
       "                                   0\n",
       "timestamp        2020-01-02 00:00:00\n",
       "TP2                           -0.014\n",
       "TP3                            9.392\n",
       "H1                            -0.014\n",
       "DV_pressure                   -0.024\n",
       "Reservoirs                     8.548\n",
       "Oil_temperature               52.725\n",
       "Motor_current                   0.04\n",
       "COMP                             1.0\n",
       "DV_eletric                       0.0\n",
       "Towers                           1.0\n",
       "MPG                              1.0\n",
       "LPS                              0.0\n",
       "Pressure_switch                  1.0\n",
       "Oil_level                        1.0\n",
       "Caudal_impulses                  1.0"
      ]
     },
     "execution_count": 13,
     "metadata": {},
     "output_type": "execute_result"
    }
   ],
   "source": [
    "metropt.mode().head(1).transpose()"
   ]
  },
  {
   "cell_type": "code",
   "execution_count": 14,
   "id": "e7f6627e",
   "metadata": {},
   "outputs": [
    {
     "data": {
      "text/plain": [
       "0      2020-01-02 00:00:00\n",
       "1      2020-01-02 00:00:00\n",
       "2      2020-01-02 00:00:00\n",
       "3      2020-01-02 00:00:00\n",
       "4      2020-01-02 00:00:00\n",
       "               ...        \n",
       "1021   2020-01-02 02:48:00\n",
       "1022   2020-01-02 02:48:00\n",
       "1023   2020-01-02 02:48:00\n",
       "1024   2020-01-02 02:49:00\n",
       "1025   2020-01-02 02:49:00\n",
       "Name: timestamp, Length: 1026, dtype: datetime64[ns]"
      ]
     },
     "execution_count": 14,
     "metadata": {},
     "output_type": "execute_result"
    }
   ],
   "source": [
    "metropt[\"timestamp\"]"
   ]
  },
  {
   "cell_type": "code",
   "execution_count": 15,
   "id": "21f93883",
   "metadata": {},
   "outputs": [],
   "source": [
    "decomp_df = metropt.set_index('timestamp')[['Oil_temperature']]"
   ]
  },
  {
   "cell_type": "code",
   "execution_count": 16,
   "id": "e1aba89f",
   "metadata": {},
   "outputs": [
    {
     "data": {
      "text/html": [
       "<div>\n",
       "<style scoped>\n",
       "    .dataframe tbody tr th:only-of-type {\n",
       "        vertical-align: middle;\n",
       "    }\n",
       "\n",
       "    .dataframe tbody tr th {\n",
       "        vertical-align: top;\n",
       "    }\n",
       "\n",
       "    .dataframe thead th {\n",
       "        text-align: right;\n",
       "    }\n",
       "</style>\n",
       "<table border=\"1\" class=\"dataframe\">\n",
       "  <thead>\n",
       "    <tr style=\"text-align: right;\">\n",
       "      <th></th>\n",
       "      <th>Oil_temperature</th>\n",
       "    </tr>\n",
       "    <tr>\n",
       "      <th>timestamp</th>\n",
       "      <th></th>\n",
       "    </tr>\n",
       "  </thead>\n",
       "  <tbody>\n",
       "    <tr>\n",
       "      <th>2020-01-02 00:00:00</th>\n",
       "      <td>53.600</td>\n",
       "    </tr>\n",
       "    <tr>\n",
       "      <th>2020-01-02 00:00:00</th>\n",
       "      <td>53.675</td>\n",
       "    </tr>\n",
       "    <tr>\n",
       "      <th>2020-01-02 00:00:00</th>\n",
       "      <td>53.600</td>\n",
       "    </tr>\n",
       "    <tr>\n",
       "      <th>2020-01-02 00:00:00</th>\n",
       "      <td>53.425</td>\n",
       "    </tr>\n",
       "    <tr>\n",
       "      <th>2020-01-02 00:00:00</th>\n",
       "      <td>53.475</td>\n",
       "    </tr>\n",
       "    <tr>\n",
       "      <th>...</th>\n",
       "      <td>...</td>\n",
       "    </tr>\n",
       "    <tr>\n",
       "      <th>2020-01-02 02:48:00</th>\n",
       "      <td>52.925</td>\n",
       "    </tr>\n",
       "    <tr>\n",
       "      <th>2020-01-02 02:48:00</th>\n",
       "      <td>52.900</td>\n",
       "    </tr>\n",
       "    <tr>\n",
       "      <th>2020-01-02 02:48:00</th>\n",
       "      <td>52.900</td>\n",
       "    </tr>\n",
       "    <tr>\n",
       "      <th>2020-01-02 02:49:00</th>\n",
       "      <td>52.900</td>\n",
       "    </tr>\n",
       "    <tr>\n",
       "      <th>2020-01-02 02:49:00</th>\n",
       "      <td>52.825</td>\n",
       "    </tr>\n",
       "  </tbody>\n",
       "</table>\n",
       "<p>1026 rows × 1 columns</p>\n",
       "</div>"
      ],
      "text/plain": [
       "                     Oil_temperature\n",
       "timestamp                           \n",
       "2020-01-02 00:00:00           53.600\n",
       "2020-01-02 00:00:00           53.675\n",
       "2020-01-02 00:00:00           53.600\n",
       "2020-01-02 00:00:00           53.425\n",
       "2020-01-02 00:00:00           53.475\n",
       "...                              ...\n",
       "2020-01-02 02:48:00           52.925\n",
       "2020-01-02 02:48:00           52.900\n",
       "2020-01-02 02:48:00           52.900\n",
       "2020-01-02 02:49:00           52.900\n",
       "2020-01-02 02:49:00           52.825\n",
       "\n",
       "[1026 rows x 1 columns]"
      ]
     },
     "execution_count": 16,
     "metadata": {},
     "output_type": "execute_result"
    }
   ],
   "source": [
    "decomp_df"
   ]
  },
  {
   "cell_type": "code",
   "execution_count": 17,
   "id": "33d0fdb0",
   "metadata": {},
   "outputs": [],
   "source": [
    "from statsmodels.tsa.seasonal import STL\n",
    "decomposition = STL(decomp_df, period = 60).fit()"
   ]
  },
  {
   "cell_type": "code",
   "execution_count": 18,
   "id": "f25cffc1",
   "metadata": {},
   "outputs": [
    {
     "data": {
      "text/plain": [
       "<statsmodels.tsa.seasonal.DecomposeResult at 0x20793a4ec20>"
      ]
     },
     "execution_count": 18,
     "metadata": {},
     "output_type": "execute_result"
    }
   ],
   "source": [
    "decomposition"
   ]
  },
  {
   "cell_type": "code",
   "execution_count": 19,
   "id": "bb88e693",
   "metadata": {},
   "outputs": [
    {
     "data": {
      "text/plain": [
       "(1026, 1)"
      ]
     },
     "execution_count": 19,
     "metadata": {},
     "output_type": "execute_result"
    }
   ],
   "source": [
    "decomposition.nobs"
   ]
  },
  {
   "cell_type": "code",
   "execution_count": 20,
   "id": "5804607d",
   "metadata": {},
   "outputs": [
    {
     "data": {
      "text/html": [
       "<div>\n",
       "<style scoped>\n",
       "    .dataframe tbody tr th:only-of-type {\n",
       "        vertical-align: middle;\n",
       "    }\n",
       "\n",
       "    .dataframe tbody tr th {\n",
       "        vertical-align: top;\n",
       "    }\n",
       "\n",
       "    .dataframe thead th {\n",
       "        text-align: right;\n",
       "    }\n",
       "</style>\n",
       "<table border=\"1\" class=\"dataframe\">\n",
       "  <thead>\n",
       "    <tr style=\"text-align: right;\">\n",
       "      <th></th>\n",
       "      <th>Oil_temperature</th>\n",
       "    </tr>\n",
       "    <tr>\n",
       "      <th>timestamp</th>\n",
       "      <th></th>\n",
       "    </tr>\n",
       "  </thead>\n",
       "  <tbody>\n",
       "    <tr>\n",
       "      <th>2020-01-02 00:00:00</th>\n",
       "      <td>53.600</td>\n",
       "    </tr>\n",
       "    <tr>\n",
       "      <th>2020-01-02 00:00:00</th>\n",
       "      <td>53.675</td>\n",
       "    </tr>\n",
       "    <tr>\n",
       "      <th>2020-01-02 00:00:00</th>\n",
       "      <td>53.600</td>\n",
       "    </tr>\n",
       "    <tr>\n",
       "      <th>2020-01-02 00:00:00</th>\n",
       "      <td>53.425</td>\n",
       "    </tr>\n",
       "    <tr>\n",
       "      <th>2020-01-02 00:00:00</th>\n",
       "      <td>53.475</td>\n",
       "    </tr>\n",
       "    <tr>\n",
       "      <th>...</th>\n",
       "      <td>...</td>\n",
       "    </tr>\n",
       "    <tr>\n",
       "      <th>2020-01-02 02:48:00</th>\n",
       "      <td>52.925</td>\n",
       "    </tr>\n",
       "    <tr>\n",
       "      <th>2020-01-02 02:48:00</th>\n",
       "      <td>52.900</td>\n",
       "    </tr>\n",
       "    <tr>\n",
       "      <th>2020-01-02 02:48:00</th>\n",
       "      <td>52.900</td>\n",
       "    </tr>\n",
       "    <tr>\n",
       "      <th>2020-01-02 02:49:00</th>\n",
       "      <td>52.900</td>\n",
       "    </tr>\n",
       "    <tr>\n",
       "      <th>2020-01-02 02:49:00</th>\n",
       "      <td>52.825</td>\n",
       "    </tr>\n",
       "  </tbody>\n",
       "</table>\n",
       "<p>1026 rows × 1 columns</p>\n",
       "</div>"
      ],
      "text/plain": [
       "                     Oil_temperature\n",
       "timestamp                           \n",
       "2020-01-02 00:00:00           53.600\n",
       "2020-01-02 00:00:00           53.675\n",
       "2020-01-02 00:00:00           53.600\n",
       "2020-01-02 00:00:00           53.425\n",
       "2020-01-02 00:00:00           53.475\n",
       "...                              ...\n",
       "2020-01-02 02:48:00           52.925\n",
       "2020-01-02 02:48:00           52.900\n",
       "2020-01-02 02:48:00           52.900\n",
       "2020-01-02 02:49:00           52.900\n",
       "2020-01-02 02:49:00           52.825\n",
       "\n",
       "[1026 rows x 1 columns]"
      ]
     },
     "execution_count": 20,
     "metadata": {},
     "output_type": "execute_result"
    }
   ],
   "source": [
    "decomposition.observed"
   ]
  },
  {
   "cell_type": "code",
   "execution_count": 21,
   "id": "9e885a29",
   "metadata": {},
   "outputs": [
    {
     "data": {
      "text/plain": [
       "timestamp\n",
       "2020-01-02 00:00:00   -0.116297\n",
       "2020-01-02 00:00:00    0.016401\n",
       "2020-01-02 00:00:00   -0.022917\n",
       "2020-01-02 00:00:00   -0.125004\n",
       "2020-01-02 00:00:00   -0.020982\n",
       "                         ...   \n",
       "2020-01-02 02:48:00    0.133674\n",
       "2020-01-02 02:48:00    0.136478\n",
       "2020-01-02 02:48:00    0.050295\n",
       "2020-01-02 02:49:00    0.030257\n",
       "2020-01-02 02:49:00   -0.086469\n",
       "Name: resid, Length: 1026, dtype: float64"
      ]
     },
     "execution_count": 21,
     "metadata": {},
     "output_type": "execute_result"
    }
   ],
   "source": [
    "decomposition.resid"
   ]
  },
  {
   "cell_type": "code",
   "execution_count": 22,
   "id": "45a7eb0b",
   "metadata": {},
   "outputs": [
    {
     "data": {
      "text/plain": [
       "timestamp\n",
       "2020-01-02 00:00:00   -0.098487\n",
       "2020-01-02 00:00:00   -0.130924\n",
       "2020-01-02 00:00:00   -0.141357\n",
       "2020-01-02 00:00:00   -0.189032\n",
       "2020-01-02 00:00:00   -0.217827\n",
       "                         ...   \n",
       "2020-01-02 02:48:00   -1.193938\n",
       "2020-01-02 02:48:00   -1.278085\n",
       "2020-01-02 02:48:00   -1.248301\n",
       "2020-01-02 02:49:00   -1.284715\n",
       "2020-01-02 02:49:00   -1.299494\n",
       "Name: season, Length: 1026, dtype: float64"
      ]
     },
     "execution_count": 22,
     "metadata": {},
     "output_type": "execute_result"
    }
   ],
   "source": [
    "decomposition.seasonal"
   ]
  },
  {
   "cell_type": "code",
   "execution_count": 23,
   "id": "d34526e1",
   "metadata": {},
   "outputs": [
    {
     "data": {
      "text/plain": [
       "timestamp\n",
       "2020-01-02 00:00:00    53.814783\n",
       "2020-01-02 00:00:00    53.789524\n",
       "2020-01-02 00:00:00    53.764274\n",
       "2020-01-02 00:00:00    53.739036\n",
       "2020-01-02 00:00:00    53.713810\n",
       "                         ...    \n",
       "2020-01-02 02:48:00    53.985264\n",
       "2020-01-02 02:48:00    54.041607\n",
       "2020-01-02 02:48:00    54.098006\n",
       "2020-01-02 02:49:00    54.154459\n",
       "2020-01-02 02:49:00    54.210964\n",
       "Name: trend, Length: 1026, dtype: float64"
      ]
     },
     "execution_count": 23,
     "metadata": {},
     "output_type": "execute_result"
    }
   ],
   "source": [
    "decomposition.trend"
   ]
  },
  {
   "cell_type": "code",
   "execution_count": 24,
   "id": "5dfe4a91",
   "metadata": {},
   "outputs": [
    {
     "data": {
      "text/plain": [
       "timestamp\n",
       "2020-01-02 00:00:00    1.0\n",
       "2020-01-02 00:00:00    1.0\n",
       "2020-01-02 00:00:00    1.0\n",
       "2020-01-02 00:00:00    1.0\n",
       "2020-01-02 00:00:00    1.0\n",
       "                      ... \n",
       "2020-01-02 02:48:00    1.0\n",
       "2020-01-02 02:48:00    1.0\n",
       "2020-01-02 02:48:00    1.0\n",
       "2020-01-02 02:49:00    1.0\n",
       "2020-01-02 02:49:00    1.0\n",
       "Name: robust_weight, Length: 1026, dtype: float64"
      ]
     },
     "execution_count": 24,
     "metadata": {},
     "output_type": "execute_result"
    }
   ],
   "source": [
    "decomposition.weights"
   ]
  },
  {
   "cell_type": "code",
   "execution_count": 25,
   "id": "a5e40237",
   "metadata": {
    "scrolled": true
   },
   "outputs": [
    {
     "data": {
      "image/png": "[encoded data removed]",
      "text/plain": [
       "<Figure size 640x480 with 4 Axes>"
      ]
     },
     "metadata": {},
     "output_type": "display_data"
    }
   ],
   "source": [
    "import matplotlib.pyplot as plt\n",
    "decomposition.plot()\n",
    "plt.show()"
   ]
  },
  {
   "cell_type": "markdown",
   "id": "29edc5d3",
   "metadata": {},
   "source": [
    "### ADF"
   ]
  },
  {
   "cell_type": "code",
   "execution_count": 26,
   "id": "4d4ddf53",
   "metadata": {},
   "outputs": [],
   "source": [
    "from statsmodels.tsa.stattools import adfuller"
   ]
  },
  {
   "cell_type": "code",
   "execution_count": 27,
   "id": "57c693f4",
   "metadata": {},
   "outputs": [],
   "source": [
    "adf_test = adfuller(decomp_df)"
   ]
  },
  {
   "cell_type": "code",
   "execution_count": 28,
   "id": "8baa4d10",
   "metadata": {},
   "outputs": [
    {
     "data": {
      "text/plain": [
       "(-3.8866094307664327,\n",
       " 0.002135634506558302,\n",
       " 14,\n",
       " 1011,\n",
       " {'1%': -3.436834649927693,\n",
       "  '5%': -2.864403033735098,\n",
       "  '10%': -2.568294409927983},\n",
       " -1819.906554013356)"
      ]
     },
     "execution_count": 28,
     "metadata": {},
     "output_type": "execute_result"
    }
   ],
   "source": [
    "adf_test"
   ]
  },
  {
   "cell_type": "markdown",
   "id": "7a3c376f",
   "metadata": {},
   "source": [
    "\n",
    "https://www.statsmodels.org/dev/_modules/statsmodels/tsa/stattools.html"
   ]
  },
  {
   "cell_type": "code",
   "execution_count": 29,
   "id": "ff45163c",
   "metadata": {},
   "outputs": [],
   "source": [
    "df_adf = pd.DataFrame([[adf_test[0], adf_test[1], adf_test[2], adf_test[3], adf_test[4]['1%'],\n",
    "                        adf_test[4]['5%'],adf_test[4]['10%'], adf_test[5]]])"
   ]
  },
  {
   "cell_type": "code",
   "execution_count": 30,
   "id": "84820f7e",
   "metadata": {},
   "outputs": [],
   "source": [
    "df_adf.columns = ['ADF Test Statistic', 'PValue', 'Used Lag', 'No. of observations', \n",
    "                  'Critical Value 1%',  'Critical Value 5%',  'Critical Value 10%', 'ICBest']"
   ]
  },
  {
   "cell_type": "code",
   "execution_count": 31,
   "id": "ef1d9e27",
   "metadata": {},
   "outputs": [
    {
     "data": {
      "text/html": [
       "<div>\n",
       "<style scoped>\n",
       "    .dataframe tbody tr th:only-of-type {\n",
       "        vertical-align: middle;\n",
       "    }\n",
       "\n",
       "    .dataframe tbody tr th {\n",
       "        vertical-align: top;\n",
       "    }\n",
       "\n",
       "    .dataframe thead th {\n",
       "        text-align: right;\n",
       "    }\n",
       "</style>\n",
       "<table border=\"1\" class=\"dataframe\">\n",
       "  <thead>\n",
       "    <tr style=\"text-align: right;\">\n",
       "      <th></th>\n",
       "      <th>0</th>\n",
       "    </tr>\n",
       "  </thead>\n",
       "  <tbody>\n",
       "    <tr>\n",
       "      <th>ADF Test Statistic</th>\n",
       "      <td>-3.886609</td>\n",
       "    </tr>\n",
       "    <tr>\n",
       "      <th>PValue</th>\n",
       "      <td>0.002136</td>\n",
       "    </tr>\n",
       "    <tr>\n",
       "      <th>Used Lag</th>\n",
       "      <td>14.000000</td>\n",
       "    </tr>\n",
       "    <tr>\n",
       "      <th>No. of observations</th>\n",
       "      <td>1011.000000</td>\n",
       "    </tr>\n",
       "    <tr>\n",
       "      <th>Critical Value 1%</th>\n",
       "      <td>-3.436835</td>\n",
       "    </tr>\n",
       "    <tr>\n",
       "      <th>Critical Value 5%</th>\n",
       "      <td>-2.864403</td>\n",
       "    </tr>\n",
       "    <tr>\n",
       "      <th>Critical Value 10%</th>\n",
       "      <td>-2.568294</td>\n",
       "    </tr>\n",
       "    <tr>\n",
       "      <th>ICBest</th>\n",
       "      <td>-1819.906554</td>\n",
       "    </tr>\n",
       "  </tbody>\n",
       "</table>\n",
       "</div>"
      ],
      "text/plain": [
       "                               0\n",
       "ADF Test Statistic     -3.886609\n",
       "PValue                  0.002136\n",
       "Used Lag               14.000000\n",
       "No. of observations  1011.000000\n",
       "Critical Value 1%      -3.436835\n",
       "Critical Value 5%      -2.864403\n",
       "Critical Value 10%     -2.568294\n",
       "ICBest              -1819.906554"
      ]
     },
     "execution_count": 31,
     "metadata": {},
     "output_type": "execute_result"
    }
   ],
   "source": [
    "df_adf.transpose()"
   ]
  },
  {
   "cell_type": "markdown",
   "id": "c5f4f272",
   "metadata": {},
   "source": [
    "https://www.statsmodels.org/dev/examples/notebooks/generated/stationarity_detrending_kpss_test.html"
   ]
  },
  {
   "cell_type": "code",
   "execution_count": 32,
   "id": "e88bcdee",
   "metadata": {},
   "outputs": [],
   "source": [
    "def check_stationary(pval):\n",
    "    if (pval) > 0.05:\n",
    "        print ('Time series is non-stationary')\n",
    "    else:\n",
    "        print ('Time series is stationary')"
   ]
  },
  {
   "cell_type": "code",
   "execution_count": 33,
   "id": "3fc25a09",
   "metadata": {},
   "outputs": [
    {
     "name": "stdout",
     "output_type": "stream",
     "text": [
      "Time series is stationary\n"
     ]
    }
   ],
   "source": [
    "check_stationary(adf_test[1])"
   ]
  },
  {
   "cell_type": "markdown",
   "id": "cb157693",
   "metadata": {},
   "source": [
    "### KPSS"
   ]
  },
  {
   "cell_type": "code",
   "execution_count": 34,
   "id": "7d65f208",
   "metadata": {},
   "outputs": [],
   "source": [
    "from statsmodels.tsa.stattools import kpss"
   ]
  },
  {
   "cell_type": "code",
   "execution_count": 53,
   "id": "c6926bff",
   "metadata": {},
   "outputs": [
    {
     "name": "stderr",
     "output_type": "stream",
     "text": [
      "C:\\Users\\suler\\anaconda3\\lib\\site-packages\\statsmodels\\tsa\\stattools.py:2022: InterpolationWarning: The test statistic is outside of the range of p-values available in the\n",
      "look-up table. The actual p-value is greater than the p-value returned.\n",
      "\n",
      "  warnings.warn(\n"
     ]
    }
   ],
   "source": [
    "kpss_test = kpss(decomp_df)"
   ]
  },
  {
   "cell_type": "code",
   "execution_count": 59,
   "id": "a0b031a8",
   "metadata": {},
   "outputs": [
    {
     "data": {
      "text/plain": [
       "(0.17862977185661982,\n",
       " 0.1,\n",
       " 19,\n",
       " {'10%': 0.347, '5%': 0.463, '2.5%': 0.574, '1%': 0.739})"
      ]
     },
     "execution_count": 59,
     "metadata": {},
     "output_type": "execute_result"
    }
   ],
   "source": [
    "kpss_test"
   ]
  },
  {
   "cell_type": "code",
   "execution_count": 54,
   "id": "bba87a8b",
   "metadata": {},
   "outputs": [],
   "source": [
    "df_kpss = pd.DataFrame([[kpss_test[0], kpss_test[1], kpss_test[2], kpss_test[3]['10%'],\n",
    "                        kpss_test[3]['5%'],kpss_test[3]['2.5%'], kpss_test[3]['1%']]])"
   ]
  },
  {
   "cell_type": "code",
   "execution_count": 55,
   "id": "eb65be2d",
   "metadata": {},
   "outputs": [],
   "source": [
    "df_kpss.columns = ['KPSS Test Statistic', 'PValue', 'Lags', \n",
    "                  'Critical Value 10%',  'Critical Value 5%',  'Critical Value 2.5%', 'Critical Value 1%']"
   ]
  },
  {
   "cell_type": "code",
   "execution_count": 56,
   "id": "a12a4db9",
   "metadata": {},
   "outputs": [
    {
     "data": {
      "text/html": [
       "<div>\n",
       "<style scoped>\n",
       "    .dataframe tbody tr th:only-of-type {\n",
       "        vertical-align: middle;\n",
       "    }\n",
       "\n",
       "    .dataframe tbody tr th {\n",
       "        vertical-align: top;\n",
       "    }\n",
       "\n",
       "    .dataframe thead th {\n",
       "        text-align: right;\n",
       "    }\n",
       "</style>\n",
       "<table border=\"1\" class=\"dataframe\">\n",
       "  <thead>\n",
       "    <tr style=\"text-align: right;\">\n",
       "      <th></th>\n",
       "      <th>0</th>\n",
       "    </tr>\n",
       "  </thead>\n",
       "  <tbody>\n",
       "    <tr>\n",
       "      <th>KPSS Test Statistic</th>\n",
       "      <td>0.17863</td>\n",
       "    </tr>\n",
       "    <tr>\n",
       "      <th>PValue</th>\n",
       "      <td>0.10000</td>\n",
       "    </tr>\n",
       "    <tr>\n",
       "      <th>Lags</th>\n",
       "      <td>19.00000</td>\n",
       "    </tr>\n",
       "    <tr>\n",
       "      <th>Critical Value 10%</th>\n",
       "      <td>0.34700</td>\n",
       "    </tr>\n",
       "    <tr>\n",
       "      <th>Critical Value 5%</th>\n",
       "      <td>0.46300</td>\n",
       "    </tr>\n",
       "    <tr>\n",
       "      <th>Critical Value 2.5%</th>\n",
       "      <td>0.57400</td>\n",
       "    </tr>\n",
       "    <tr>\n",
       "      <th>Critical Value 1%</th>\n",
       "      <td>0.73900</td>\n",
       "    </tr>\n",
       "  </tbody>\n",
       "</table>\n",
       "</div>"
      ],
      "text/plain": [
       "                            0\n",
       "KPSS Test Statistic   0.17863\n",
       "PValue                0.10000\n",
       "Lags                 19.00000\n",
       "Critical Value 10%    0.34700\n",
       "Critical Value 5%     0.46300\n",
       "Critical Value 2.5%   0.57400\n",
       "Critical Value 1%     0.73900"
      ]
     },
     "execution_count": 56,
     "metadata": {},
     "output_type": "execute_result"
    }
   ],
   "source": [
    "df_kpss.transpose()"
   ]
  },
  {
   "cell_type": "code",
   "execution_count": 57,
   "id": "07f72ff6",
   "metadata": {},
   "outputs": [],
   "source": [
    "def check_stationary_kpss(pval):\n",
    "    if (pval) > 0.05:\n",
    "        print ('Time series is stationary')\n",
    "    else:\n",
    "        print ('Time series is non-stationary')"
   ]
  },
  {
   "cell_type": "code",
   "execution_count": 58,
   "id": "a70d857a",
   "metadata": {},
   "outputs": [
    {
     "name": "stdout",
     "output_type": "stream",
     "text": [
      "Time series is stationary\n"
     ]
    }
   ],
   "source": [
    "check_stationary_kpss(kpss_test[1])"
   ]
  },
  {
   "cell_type": "markdown",
   "id": "e801bbd1",
   "metadata": {},
   "source": [
    "### Autocorrelation and partial autocorrelation"
   ]
  },
  {
   "cell_type": "code",
   "execution_count": 60,
   "id": "e76f14e4",
   "metadata": {},
   "outputs": [
    {
     "data": {
      "text/html": [
       "<div>\n",
       "<style scoped>\n",
       "    .dataframe tbody tr th:only-of-type {\n",
       "        vertical-align: middle;\n",
       "    }\n",
       "\n",
       "    .dataframe tbody tr th {\n",
       "        vertical-align: top;\n",
       "    }\n",
       "\n",
       "    .dataframe thead th {\n",
       "        text-align: right;\n",
       "    }\n",
       "</style>\n",
       "<table border=\"1\" class=\"dataframe\">\n",
       "  <thead>\n",
       "    <tr style=\"text-align: right;\">\n",
       "      <th></th>\n",
       "      <th>Oil_temperature</th>\n",
       "    </tr>\n",
       "    <tr>\n",
       "      <th>timestamp</th>\n",
       "      <th></th>\n",
       "    </tr>\n",
       "  </thead>\n",
       "  <tbody>\n",
       "    <tr>\n",
       "      <th>2020-01-02 00:00:00</th>\n",
       "      <td>53.600</td>\n",
       "    </tr>\n",
       "    <tr>\n",
       "      <th>2020-01-02 00:00:00</th>\n",
       "      <td>53.675</td>\n",
       "    </tr>\n",
       "    <tr>\n",
       "      <th>2020-01-02 00:00:00</th>\n",
       "      <td>53.600</td>\n",
       "    </tr>\n",
       "    <tr>\n",
       "      <th>2020-01-02 00:00:00</th>\n",
       "      <td>53.425</td>\n",
       "    </tr>\n",
       "    <tr>\n",
       "      <th>2020-01-02 00:00:00</th>\n",
       "      <td>53.475</td>\n",
       "    </tr>\n",
       "    <tr>\n",
       "      <th>...</th>\n",
       "      <td>...</td>\n",
       "    </tr>\n",
       "    <tr>\n",
       "      <th>2020-01-02 02:48:00</th>\n",
       "      <td>52.925</td>\n",
       "    </tr>\n",
       "    <tr>\n",
       "      <th>2020-01-02 02:48:00</th>\n",
       "      <td>52.900</td>\n",
       "    </tr>\n",
       "    <tr>\n",
       "      <th>2020-01-02 02:48:00</th>\n",
       "      <td>52.900</td>\n",
       "    </tr>\n",
       "    <tr>\n",
       "      <th>2020-01-02 02:49:00</th>\n",
       "      <td>52.900</td>\n",
       "    </tr>\n",
       "    <tr>\n",
       "      <th>2020-01-02 02:49:00</th>\n",
       "      <td>52.825</td>\n",
       "    </tr>\n",
       "  </tbody>\n",
       "</table>\n",
       "<p>1026 rows × 1 columns</p>\n",
       "</div>"
      ],
      "text/plain": [
       "                     Oil_temperature\n",
       "timestamp                           \n",
       "2020-01-02 00:00:00           53.600\n",
       "2020-01-02 00:00:00           53.675\n",
       "2020-01-02 00:00:00           53.600\n",
       "2020-01-02 00:00:00           53.425\n",
       "2020-01-02 00:00:00           53.475\n",
       "...                              ...\n",
       "2020-01-02 02:48:00           52.925\n",
       "2020-01-02 02:48:00           52.900\n",
       "2020-01-02 02:48:00           52.900\n",
       "2020-01-02 02:49:00           52.900\n",
       "2020-01-02 02:49:00           52.825\n",
       "\n",
       "[1026 rows x 1 columns]"
      ]
     },
     "execution_count": 60,
     "metadata": {},
     "output_type": "execute_result"
    }
   ],
   "source": [
    "decomp_df"
   ]
  },
  {
   "cell_type": "code",
   "execution_count": 74,
   "id": "2d245eae",
   "metadata": {},
   "outputs": [
    {
     "data": {
      "image/png": "[encoded data removed]",
      "text/plain": [
       "<Figure size 640x480 with 1 Axes>"
      ]
     },
     "metadata": {},
     "output_type": "display_data"
    }
   ],
   "source": [
    "from statsmodels.graphics.tsaplots import plot_acf\n",
    "plot_acf(decomp_df, lags = 1000)\n",
    "plt.show()"
   ]
  },
  {
   "cell_type": "code",
   "execution_count": 67,
   "id": "8ae3eb3a",
   "metadata": {},
   "outputs": [
    {
     "data": {
      "image/png": "[encoded data removed]",
      "text/plain": [
       "<Figure size 640x480 with 1 Axes>"
      ]
     },
     "metadata": {},
     "output_type": "display_data"
    }
   ],
   "source": [
    "plot_acf(decomp_df, lags = 30)\n",
    "plt.show()"
   ]
  },
  {
   "cell_type": "code",
   "execution_count": 71,
   "id": "e9175859",
   "metadata": {},
   "outputs": [
    {
     "data": {
      "image/png": "[encoded data removed]",
      "text/plain": [
       "<Figure size 640x480 with 1 Axes>"
      ]
     },
     "metadata": {},
     "output_type": "display_data"
    }
   ],
   "source": [
    "from statsmodels.graphics.tsaplots import plot_pacf\n",
    "plot_pacf(decomp_df, lags = 500)\n",
    "plt.show()"
   ]
  },
  {
   "cell_type": "code",
   "execution_count": 72,
   "id": "8871405d",
   "metadata": {},
   "outputs": [
    {
     "data": {
      "image/png": "[encoded data removed]",
      "text/plain": [
       "<Figure size 640x480 with 1 Axes>"
      ]
     },
     "metadata": {},
     "output_type": "display_data"
    }
   ],
   "source": [
    "plot_pacf(decomp_df, lags = 30)\n",
    "plt.show()"
   ]
  },
  {
   "cell_type": "markdown",
   "id": "9f1fea43",
   "metadata": {},
   "source": [
    "### Rolling statistics and moving averages"
   ]
  },
  {
   "cell_type": "code",
   "execution_count": 87,
   "id": "9a665077",
   "metadata": {},
   "outputs": [],
   "source": [
    "window = 60"
   ]
  },
  {
   "cell_type": "code",
   "execution_count": 88,
   "id": "d2f2da5f",
   "metadata": {},
   "outputs": [],
   "source": [
    "rolling_std = decomp_df.rolling(window=window).std()"
   ]
  },
  {
   "cell_type": "code",
   "execution_count": 89,
   "id": "008c0887",
   "metadata": {},
   "outputs": [
    {
     "data": {
      "image/png": "[encoded data removed]",
      "text/plain": [
       "<Figure size 1200x600 with 1 Axes>"
      ]
     },
     "metadata": {},
     "output_type": "display_data"
    }
   ],
   "source": [
    "plt.figure(figsize=(12, 6))\n",
    "plt.plot(decomp_df, label='Observed Time Series', color='blue')\n",
    "plt.plot(rolling_std, label='Rolling Standard Deviation', color='red')\n",
    "plt.xlabel('Date Time')\n",
    "plt.ylabel('Oil Temperature')\n",
    "plt.title('Time Series with Rolling Standard Deviation')\n",
    "plt.legend()\n",
    "plt.show()"
   ]
  },
  {
   "cell_type": "code",
   "execution_count": 90,
   "id": "c05b73a4",
   "metadata": {},
   "outputs": [],
   "source": [
    "rolling_median = decomp_df.rolling(window=window).median()"
   ]
  },
  {
   "cell_type": "code",
   "execution_count": 91,
   "id": "a70b7c84",
   "metadata": {},
   "outputs": [
    {
     "data": {
      "image/png": "[encoded data removed]",
      "text/plain": [
       "<Figure size 1200x600 with 1 Axes>"
      ]
     },
     "metadata": {},
     "output_type": "display_data"
    }
   ],
   "source": [
    "plt.figure(figsize=(12, 6))\n",
    "plt.plot(decomp_df, label='Observed Time Series', color='blue')\n",
    "plt.plot(rolling_median, label='Rolling Median', color='red')\n",
    "plt.xlabel('Date Time')\n",
    "plt.ylabel('Oil Temperature')\n",
    "plt.title('Time Series with Rolling Median')\n",
    "plt.legend()\n",
    "plt.show()"
   ]
  },
  {
   "cell_type": "code",
   "execution_count": 92,
   "id": "86b96f98",
   "metadata": {},
   "outputs": [],
   "source": [
    "rolling_mean = decomp_df.rolling(window=window).mean()"
   ]
  },
  {
   "cell_type": "code",
   "execution_count": 93,
   "id": "d7ce8b28",
   "metadata": {},
   "outputs": [
    {
     "data": {
      "image/png": "[encoded data removed]",
      "text/plain": [
       "<Figure size 1200x600 with 1 Axes>"
      ]
     },
     "metadata": {},
     "output_type": "display_data"
    }
   ],
   "source": [
    "plt.figure(figsize=(12, 6))\n",
    "plt.plot(decomp_df, label='Observed Time Series', color='blue')\n",
    "plt.plot(rolling_mean, label='Rolling Mean', color='red')\n",
    "plt.xlabel('Date Time')\n",
    "plt.ylabel('Oil Temperature')\n",
    "plt.title('Time Series with Rolling Mean')\n",
    "plt.legend()\n",
    "plt.show()"
   ]
  }
 ],
 "metadata": {
  "kernelspec": {
   "display_name": "Python 3 (ipykernel)",
   "language": "python",
   "name": "python3"
  },
  "language_info": {
   "codemirror_mode": {
    "name": "ipython",
    "version": 3
   },
   "file_extension": ".py",
   "mimetype": "text/x-python",
   "name": "python",
   "nbconvert_exporter": "python",
   "pygments_lexer": "ipython3",
   "version": "3.10.9"
  }
 },
 "nbformat": 4,
 "nbformat_minor": 5
}
